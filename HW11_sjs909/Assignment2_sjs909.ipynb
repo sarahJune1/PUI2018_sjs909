{
 "cells": [
  {
   "cell_type": "code",
   "execution_count": 40,
   "metadata": {},
   "outputs": [],
   "source": [
    "from __future__ import print_function\n",
    "%matplotlib inline\n",
    "import geopandas as gpd\n",
    "import numpy as np\n",
    "import pylab as pl\n",
    "import pandas as pd\n",
    "import io\n",
    "import shapely\n",
    "from geopandas.tools import sjoin\n",
    "from geopandas import GeoDataFrame\n",
    "from matplotlib import pyplot as plt\n",
    "import pylab\n",
    "import os\n",
    "import zipfile\n",
    "import json\n",
    "from fiona.crs import from_epsg\n",
    "import sys\n",
    "try:\n",
    "    import urllib2 as urllib\n",
    "except ImportError:\n",
    "    import urllib.request as urllib\n",
    "import requests\n",
    "\n",
    "\n"
   ]
  },
  {
   "cell_type": "markdown",
   "metadata": {},
   "source": [
    "# Read in Data"
   ]
  },
  {
   "cell_type": "code",
   "execution_count": 41,
   "metadata": {},
   "outputs": [
    {
     "data": {
      "text/plain": [
       "'/nfshome/sjs909/PUIDATA'"
      ]
     },
     "execution_count": 41,
     "metadata": {},
     "output_type": "execute_result"
    }
   ],
   "source": [
    "#Set the environmental variable PUIDATA\n",
    "puidata = os.getenv(\"PUIDATA\")\n",
    "if not puidata or puidata == '/nfshome/sjs909/PUIdata':\n",
    "    puidata = '/nfshome/sjs909/PUIDATA'\n",
    "\n",
    "os.environ[\"PUIDATA\"] = puidata\n",
    "os.environ[\"PUIDATA\"]"
   ]
  },
  {
   "cell_type": "code",
   "execution_count": 42,
   "metadata": {},
   "outputs": [],
   "source": [
    "NYSShape = gpd.GeoDataFrame.from_file('%s/NYSdir/cugir-007865'%os.getenv(\"PUIDATA\"))"
   ]
  },
  {
   "cell_type": "code",
   "execution_count": 5,
   "metadata": {},
   "outputs": [
    {
     "data": {
      "text/html": [
       "<div>\n",
       "<table border=\"1\" class=\"dataframe\">\n",
       "  <thead>\n",
       "    <tr style=\"text-align: right;\">\n",
       "      <th></th>\n",
       "      <th>STATE</th>\n",
       "      <th>COUNTY</th>\n",
       "      <th>NAME</th>\n",
       "      <th>LSAD</th>\n",
       "      <th>LSAD_TRANS</th>\n",
       "      <th>OID_</th>\n",
       "      <th>COUNTY_FIP</th>\n",
       "      <th>POP2000</th>\n",
       "      <th>WHITE</th>\n",
       "      <th>BLACK</th>\n",
       "      <th>...</th>\n",
       "      <th>FHH_MINORC</th>\n",
       "      <th>FAMILIES</th>\n",
       "      <th>AV_FAM_SZ</th>\n",
       "      <th>HSE_UNITS</th>\n",
       "      <th>URBAN</th>\n",
       "      <th>RURAL</th>\n",
       "      <th>VACANT</th>\n",
       "      <th>OWNER_OCC</th>\n",
       "      <th>RENTER_OCC</th>\n",
       "      <th>geometry</th>\n",
       "    </tr>\n",
       "  </thead>\n",
       "  <tbody>\n",
       "    <tr>\n",
       "      <th>0</th>\n",
       "      <td>36</td>\n",
       "      <td>089</td>\n",
       "      <td>St. Lawrence</td>\n",
       "      <td>06</td>\n",
       "      <td>County</td>\n",
       "      <td>44</td>\n",
       "      <td>089</td>\n",
       "      <td>111931</td>\n",
       "      <td>105782</td>\n",
       "      <td>2664</td>\n",
       "      <td>...</td>\n",
       "      <td>2773</td>\n",
       "      <td>26939</td>\n",
       "      <td>3</td>\n",
       "      <td>49721</td>\n",
       "      <td>16085</td>\n",
       "      <td>33636</td>\n",
       "      <td>9215</td>\n",
       "      <td>28606</td>\n",
       "      <td>11900</td>\n",
       "      <td>POLYGON ((-74.712396 44.953008, -74.7111320000...</td>\n",
       "    </tr>\n",
       "    <tr>\n",
       "      <th>1</th>\n",
       "      <td>36</td>\n",
       "      <td>019</td>\n",
       "      <td>Clinton</td>\n",
       "      <td>06</td>\n",
       "      <td>County</td>\n",
       "      <td>9</td>\n",
       "      <td>019</td>\n",
       "      <td>79894</td>\n",
       "      <td>74562</td>\n",
       "      <td>2863</td>\n",
       "      <td>...</td>\n",
       "      <td>1951</td>\n",
       "      <td>19261</td>\n",
       "      <td>3</td>\n",
       "      <td>33091</td>\n",
       "      <td>12161</td>\n",
       "      <td>20930</td>\n",
       "      <td>3668</td>\n",
       "      <td>20157</td>\n",
       "      <td>9266</td>\n",
       "      <td>POLYGON ((-74.025026 44.980036, -74.0274011055...</td>\n",
       "    </tr>\n",
       "    <tr>\n",
       "      <th>2</th>\n",
       "      <td>36</td>\n",
       "      <td>033</td>\n",
       "      <td>Franklin</td>\n",
       "      <td>06</td>\n",
       "      <td>County</td>\n",
       "      <td>16</td>\n",
       "      <td>033</td>\n",
       "      <td>51134</td>\n",
       "      <td>42970</td>\n",
       "      <td>3389</td>\n",
       "      <td>...</td>\n",
       "      <td>1312</td>\n",
       "      <td>11805</td>\n",
       "      <td>3</td>\n",
       "      <td>23936</td>\n",
       "      <td>7409</td>\n",
       "      <td>16527</td>\n",
       "      <td>6005</td>\n",
       "      <td>12638</td>\n",
       "      <td>5293</td>\n",
       "      <td>POLYGON ((-74.025026 44.980036, -74.021078 44....</td>\n",
       "    </tr>\n",
       "    <tr>\n",
       "      <th>3</th>\n",
       "      <td>36</td>\n",
       "      <td>031</td>\n",
       "      <td>Essex</td>\n",
       "      <td>06</td>\n",
       "      <td>County</td>\n",
       "      <td>15</td>\n",
       "      <td>031</td>\n",
       "      <td>38851</td>\n",
       "      <td>36848</td>\n",
       "      <td>1092</td>\n",
       "      <td>...</td>\n",
       "      <td>810</td>\n",
       "      <td>9832</td>\n",
       "      <td>3</td>\n",
       "      <td>23115</td>\n",
       "      <td>4288</td>\n",
       "      <td>18827</td>\n",
       "      <td>8087</td>\n",
       "      <td>11089</td>\n",
       "      <td>3939</td>\n",
       "      <td>POLYGON ((-73.46411999999999 44.5354, -73.4649...</td>\n",
       "    </tr>\n",
       "    <tr>\n",
       "      <th>4</th>\n",
       "      <td>36</td>\n",
       "      <td>045</td>\n",
       "      <td>Jefferson</td>\n",
       "      <td>06</td>\n",
       "      <td>County</td>\n",
       "      <td>22</td>\n",
       "      <td>045</td>\n",
       "      <td>111738</td>\n",
       "      <td>99118</td>\n",
       "      <td>6517</td>\n",
       "      <td>...</td>\n",
       "      <td>2815</td>\n",
       "      <td>28142</td>\n",
       "      <td>3</td>\n",
       "      <td>54070</td>\n",
       "      <td>20947</td>\n",
       "      <td>33123</td>\n",
       "      <td>14002</td>\n",
       "      <td>23906</td>\n",
       "      <td>16162</td>\n",
       "      <td>POLYGON ((-75.86007064557869 44.40327395405457...</td>\n",
       "    </tr>\n",
       "  </tbody>\n",
       "</table>\n",
       "<p>5 rows × 81 columns</p>\n",
       "</div>"
      ],
      "text/plain": [
       "  STATE COUNTY          NAME LSAD LSAD_TRANS  OID_ COUNTY_FIP  POP2000  \\\n",
       "0    36    089  St. Lawrence   06     County    44        089   111931   \n",
       "1    36    019       Clinton   06     County     9        019    79894   \n",
       "2    36    033      Franklin   06     County    16        033    51134   \n",
       "3    36    031         Essex   06     County    15        031    38851   \n",
       "4    36    045     Jefferson   06     County    22        045   111738   \n",
       "\n",
       "    WHITE  BLACK                        ...                          \\\n",
       "0  105782   2664                        ...                           \n",
       "1   74562   2863                        ...                           \n",
       "2   42970   3389                        ...                           \n",
       "3   36848   1092                        ...                           \n",
       "4   99118   6517                        ...                           \n",
       "\n",
       "   FHH_MINORC  FAMILIES  AV_FAM_SZ  HSE_UNITS  URBAN  RURAL  VACANT  \\\n",
       "0        2773     26939          3      49721  16085  33636    9215   \n",
       "1        1951     19261          3      33091  12161  20930    3668   \n",
       "2        1312     11805          3      23936   7409  16527    6005   \n",
       "3         810      9832          3      23115   4288  18827    8087   \n",
       "4        2815     28142          3      54070  20947  33123   14002   \n",
       "\n",
       "   OWNER_OCC  RENTER_OCC                                           geometry  \n",
       "0      28606       11900  POLYGON ((-74.712396 44.953008, -74.7111320000...  \n",
       "1      20157        9266  POLYGON ((-74.025026 44.980036, -74.0274011055...  \n",
       "2      12638        5293  POLYGON ((-74.025026 44.980036, -74.021078 44....  \n",
       "3      11089        3939  POLYGON ((-73.46411999999999 44.5354, -73.4649...  \n",
       "4      23906       16162  POLYGON ((-75.86007064557869 44.40327395405457...  \n",
       "\n",
       "[5 rows x 81 columns]"
      ]
     },
     "execution_count": 5,
     "metadata": {},
     "output_type": "execute_result"
    }
   ],
   "source": [
    "NYSShape.head()"
   ]
  },
  {
   "cell_type": "code",
   "execution_count": 4,
   "metadata": {},
   "outputs": [],
   "source": [
    "Fulton = NYSShape.loc[NYSShape['NAME'] == 'Fulton']\n",
    "Schoharie = NYSShape.loc[NYSShape['NAME'] == 'Schoharie']"
   ]
  },
  {
   "cell_type": "code",
   "execution_count": 5,
   "metadata": {},
   "outputs": [],
   "source": [
    "HighF = pd.concat([Fulton, Schoharie], axis=0)"
   ]
  },
  {
   "cell_type": "code",
   "execution_count": 6,
   "metadata": {},
   "outputs": [],
   "source": [
    "races = ('WHITE','BLACK',         u'AMER_ES',           u'ASIAN',\n",
    "               u'HAWN_PI',           u'OTHER',       u'MULT_RACE',\n",
    "              u'HISPANIC')"
   ]
  },
  {
   "cell_type": "code",
   "execution_count": 44,
   "metadata": {
    "scrolled": true
   },
   "outputs": [
    {
     "name": "stdout",
     "output_type": "stream",
     "text": [
      "WHITE\n",
      "0.959871443357\n",
      "BLACK\n",
      "0.0180124561945\n",
      "AMER_ES\n",
      "0.00190656038349\n",
      "ASIAN\n",
      "0.00532021135584\n",
      "HAWN_PI\n",
      "0.000163419461442\n",
      "OTHER\n",
      "0.00559257712491\n",
      "MULT_RACE\n",
      "0.00913333212282\n",
      "HISPANIC\n",
      "0.0160514226572\n"
     ]
    },
    {
     "data": {
      "image/png": "[encoded data removed]",
      "text/plain": [
       "<matplotlib.figure.Figure at 0x7f1429d52c88>"
      ]
     },
     "metadata": {},
     "output_type": "display_data"
    }
   ],
   "source": [
    "# Make proportion of Race Population for Fulton\n",
    "fnList = []\n",
    "for i in range(len(races)):\n",
    "    print(races[i])\n",
    "    print((HighF.iloc[0][races[i]])/HighF.iloc[0]['POP2000'])\n",
    "    fnList.append((HighF.iloc[0][races[i]])/HighF.iloc[0]['POP2000'])\n",
    "\n",
    "y_pos = np.arange(len(races))\n",
    " \n",
    "plt.bar(y_pos, fnList, align='center', alpha=0.5)\n",
    "pl.xticks(rotation=90, fontsize=15)\n",
    "plt.xticks(y_pos, races)\n",
    "plt.ylabel('Proportion of Population')\n",
    "plt.title('Fulton Population')\n",
    "plt.savefig('Fulton.png')"
   ]
  },
  {
   "cell_type": "markdown",
   "metadata": {},
   "source": [
    "My feedback from last time was how the demographics did not include the white population, skewing the interpretation of the demographics. Also how a stacked bar plot was not easy to breakdown. So I made a regular bar graph where you can now see that the white population is the highest. And I did the same for the other county."
   ]
  },
  {
   "cell_type": "code",
   "execution_count": 45,
   "metadata": {},
   "outputs": [
    {
     "name": "stdout",
     "output_type": "stream",
     "text": [
      "WHITE\n",
      "0.966183268951\n",
      "BLACK\n",
      "0.0127604331581\n",
      "AMER_ES\n",
      "0.00303970616174\n",
      "ASIAN\n",
      "0.00379963270217\n",
      "HAWN_PI\n",
      "0.00022164524096\n",
      "OTHER\n",
      "0.00471787727186\n",
      "MULT_RACE\n",
      "0.00927743651447\n",
      "HISPANIC\n",
      "0.0186182002406\n"
     ]
    },
    {
     "data": {
      "image/png": "[encoded data removed]",
      "text/plain": [
       "<matplotlib.figure.Figure at 0x7f1429deb908>"
      ]
     },
     "metadata": {},
     "output_type": "display_data"
    }
   ],
   "source": [
    "schList = []\n",
    "for i in range(len(races)):\n",
    "    print(races[i])\n",
    "    print((HighF.iloc[1][races[i]])/HighF.iloc[1]['POP2000'])\n",
    "    schList.append((HighF.iloc[1][races[i]])/HighF.iloc[1]['POP2000'])\n",
    "\n",
    "y_pos = np.arange(len(races))\n",
    " \n",
    "plt.bar(y_pos, schList, align='center', alpha=0.5)\n",
    "pl.xticks(rotation=90, fontsize=15)\n",
    "plt.xticks(y_pos, races)\n",
    "plt.ylabel('Proportion of Population')\n",
    "plt.title('Schoharie Population')\n",
    "plt.savefig('Schoharie.png')"
   ]
  },
  {
   "cell_type": "code",
   "execution_count": null,
   "metadata": {},
   "outputs": [],
   "source": []
  }
 ],
 "metadata": {
  "kernelspec": {
   "display_name": "PUI2016_Python3",
   "language": "python",
   "name": "pui2016_python3"
  },
  "language_info": {
   "codemirror_mode": {
    "name": "ipython",
    "version": 3
   },
   "file_extension": ".py",
   "mimetype": "text/x-python",
   "name": "python",
   "nbconvert_exporter": "python",
   "pygments_lexer": "ipython3",
   "version": "3.5.4"
  }
 },
 "nbformat": 4,
 "nbformat_minor": 2
}
