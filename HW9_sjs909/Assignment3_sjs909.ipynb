{
 "cells": [
  {
   "cell_type": "code",
   "execution_count": 66,
   "metadata": {},
   "outputs": [
    {
     "name": "stdout",
     "output_type": "stream",
     "text": [
      "Populating the interactive namespace from numpy and matplotlib\n"
     ]
    }
   ],
   "source": [
    "from __future__ import print_function #for compatibility beteen python2 and python3\n",
    "import numpy as np\n",
    "import matplotlib as plt\n",
    "import pylab as pl\n",
    "import pandas as pd\n",
    "import os\n",
    "import seaborn as sns\n",
    "import zipfile\n",
    "import json\n",
    "import warnings\n",
    "\n",
    "\n",
    "from skhep.visual import MplPlotter as skh_plt # use this for ploting error bars\n",
    "\n",
    "\n",
    "import statsmodels.api as sm\n",
    "import statsmodels.formula.api as smf\n",
    "from numpy import inf\n",
    "import scipy as sp\n",
    "\n",
    "%pylab inline\n",
    "warnings.filterwarnings(\"ignore\")"
   ]
  },
  {
   "cell_type": "code",
   "execution_count": 3,
   "metadata": {},
   "outputs": [
    {
     "data": {
      "text/plain": [
       "'/nfshome/sjs909/PUIDATA'"
      ]
     },
     "execution_count": 3,
     "metadata": {},
     "output_type": "execute_result"
    }
   ],
   "source": [
    "#set environment to PUIDATA\n",
    "puidata = os.getenv(\"PUIDATA\")\n",
    "if not puidata or puidata == '/nfshome/sjs909/PUIdata':\n",
    "    puidata = '/nfshome/sjs909/PUIDATA'\n",
    "\n",
    "os.environ[\"PUIDATA\"] = puidata\n",
    "os.environ[\"PUIDATA\"]"
   ]
  },
  {
   "cell_type": "code",
   "execution_count": 4,
   "metadata": {},
   "outputs": [],
   "source": [
    "# Read in data\n",
    "ownership = pd.read_csv(\"%s/GunControl/World firearms murders and ownership.csv\"%os.getenv(\"PUIDATA\"))"
   ]
  },
  {
   "cell_type": "code",
   "execution_count": 5,
   "metadata": {},
   "outputs": [
    {
     "data": {
      "text/plain": [
       "Index([u'Country/Territory', u'ISO code', u'Source',\n",
       "       u'% of homicides by firearm', u'Number of homicides by firearm',\n",
       "       u'Homicide by firearm rate per 100,000 pop',\n",
       "       u'Rank by rate of ownership', u'Average firearms per 100 people',\n",
       "       u'Average total all civilian firearms'],\n",
       "      dtype='object')"
      ]
     },
     "execution_count": 5,
     "metadata": {},
     "output_type": "execute_result"
    }
   ],
   "source": [
    "ownership.columns"
   ]
  },
  {
   "cell_type": "code",
   "execution_count": 6,
   "metadata": {},
   "outputs": [],
   "source": [
    "ownership = ownership.drop([ 'ISO code', 'Source', '% of homicides by firearm',\n",
    "       'Homicide by firearm rate per 100,000 pop', 'Rank by rate of ownership',\n",
    "       'Average firearms per 100 people',\n",
    "       ],axis=1)"
   ]
  },
  {
   "cell_type": "code",
   "execution_count": 7,
   "metadata": {},
   "outputs": [
    {
     "data": {
      "text/html": [
       "<div>\n",
       "<style scoped>\n",
       "    .dataframe tbody tr th:only-of-type {\n",
       "        vertical-align: middle;\n",
       "    }\n",
       "\n",
       "    .dataframe tbody tr th {\n",
       "        vertical-align: top;\n",
       "    }\n",
       "\n",
       "    .dataframe thead th {\n",
       "        text-align: right;\n",
       "    }\n",
       "</style>\n",
       "<table border=\"1\" class=\"dataframe\">\n",
       "  <thead>\n",
       "    <tr style=\"text-align: right;\">\n",
       "      <th></th>\n",
       "      <th>Country/Territory</th>\n",
       "      <th>Number of homicides by firearm</th>\n",
       "      <th>Average total all civilian firearms</th>\n",
       "    </tr>\n",
       "  </thead>\n",
       "  <tbody>\n",
       "    <tr>\n",
       "      <th>0</th>\n",
       "      <td>Albania</td>\n",
       "      <td>56.0</td>\n",
       "      <td>270000.0</td>\n",
       "    </tr>\n",
       "    <tr>\n",
       "      <th>1</th>\n",
       "      <td>Algeria</td>\n",
       "      <td>20.0</td>\n",
       "      <td>1900000.0</td>\n",
       "    </tr>\n",
       "    <tr>\n",
       "      <th>2</th>\n",
       "      <td>Angola</td>\n",
       "      <td>NaN</td>\n",
       "      <td>2800000.0</td>\n",
       "    </tr>\n",
       "    <tr>\n",
       "      <th>3</th>\n",
       "      <td>Anguilla</td>\n",
       "      <td>1.0</td>\n",
       "      <td>NaN</td>\n",
       "    </tr>\n",
       "    <tr>\n",
       "      <th>4</th>\n",
       "      <td>Argentina</td>\n",
       "      <td>1198.0</td>\n",
       "      <td>3950000.0</td>\n",
       "    </tr>\n",
       "  </tbody>\n",
       "</table>\n",
       "</div>"
      ],
      "text/plain": [
       "  Country/Territory  Number of homicides by firearm  \\\n",
       "0           Albania                            56.0   \n",
       "1           Algeria                            20.0   \n",
       "2            Angola                             NaN   \n",
       "3          Anguilla                             1.0   \n",
       "4         Argentina                          1198.0   \n",
       "\n",
       "   Average total all civilian firearms  \n",
       "0                             270000.0  \n",
       "1                            1900000.0  \n",
       "2                            2800000.0  \n",
       "3                                  NaN  \n",
       "4                            3950000.0  "
      ]
     },
     "execution_count": 7,
     "metadata": {},
     "output_type": "execute_result"
    }
   ],
   "source": [
    "ownership.head()"
   ]
  },
  {
   "cell_type": "code",
   "execution_count": 8,
   "metadata": {},
   "outputs": [],
   "source": [
    "#with zipfile.ZipFile(\"%s/GunControl/API_SP.POP.TOTL_DS2_en_csv_v2_10203548.zip\"%os.getenv(\"PUIDATA\"),\"r\") as zip_ref:\n",
    "#    zip_ref.extractall(\"TotalPop\")"
   ]
  },
  {
   "cell_type": "code",
   "execution_count": 9,
   "metadata": {},
   "outputs": [],
   "source": [
    "#Move into PUIDATA\n",
    "#os.rename(\"/nfshome/sjs909/PUI2018/HW9_sjs909/TotalPop\", \"/nfshome/sjs909/PUIDATA/GunControl/TotalPop\")"
   ]
  },
  {
   "cell_type": "code",
   "execution_count": 10,
   "metadata": {},
   "outputs": [],
   "source": [
    "#gives total population \n",
    "pop = pd.read_csv(\"%s/GunControl/TotalPop/API_SP.POP.TOTL_DS2_en_csv_v2_10203548.csv\"%os.getenv(\"PUIDATA\"), header=2)"
   ]
  },
  {
   "cell_type": "code",
   "execution_count": 11,
   "metadata": {},
   "outputs": [
    {
     "data": {
      "text/plain": [
       "array(['Population, total'], dtype=object)"
      ]
     },
     "execution_count": 11,
     "metadata": {},
     "output_type": "execute_result"
    }
   ],
   "source": [
    "unique(pop['Indicator Name'])"
   ]
  },
  {
   "cell_type": "code",
   "execution_count": 12,
   "metadata": {},
   "outputs": [
    {
     "data": {
      "text/plain": [
       "Index([u'Country Name', u'Country Code', u'Indicator Name', u'Indicator Code',\n",
       "       u'1960', u'1961', u'1962', u'1963', u'1964', u'1965', u'1966', u'1967',\n",
       "       u'1968', u'1969', u'1970', u'1971', u'1972', u'1973', u'1974', u'1975',\n",
       "       u'1976', u'1977', u'1978', u'1979', u'1980', u'1981', u'1982', u'1983',\n",
       "       u'1984', u'1985', u'1986', u'1987', u'1988', u'1989', u'1990', u'1991',\n",
       "       u'1992', u'1993', u'1994', u'1995', u'1996', u'1997', u'1998', u'1999',\n",
       "       u'2000', u'2001', u'2002', u'2003', u'2004', u'2005', u'2006', u'2007',\n",
       "       u'2008', u'2009', u'2010', u'2011', u'2012', u'2013', u'2014', u'2015',\n",
       "       u'2016', u'2017', u'Unnamed: 62'],\n",
       "      dtype='object')"
      ]
     },
     "execution_count": 12,
     "metadata": {},
     "output_type": "execute_result"
    }
   ],
   "source": [
    "pop.columns"
   ]
  },
  {
   "cell_type": "code",
   "execution_count": 13,
   "metadata": {},
   "outputs": [],
   "source": [
    "pop = pop.drop(labels=['Country Code', 'Indicator Name', 'Indicator Code',\n",
    "       '1960', '1961', '1962', '1963', '1964', '1965', '1966', '1967', '1968',\n",
    "       '1969', '1970', '1971', '1972', '1973', '1974', '1975', '1976', '1977',\n",
    "       '1978', '1979', '1980', '1981', '1982', '1983', '1984', '1985', '1986',\n",
    "       '1987', '1988', '1989', '1990', '1991', '1992', '1993', '1994', '1995',\n",
    "       '1996', '1997', '1998', '1999', '2000', '2001', '2002', '2003', '2004',\n",
    "       '2005', '2006', '2007', '2008', '2009', '2010', '2011',  '2013',\n",
    "       '2014', '2015', '2016', '2017', 'Unnamed: 62'], axis=1)"
   ]
  },
  {
   "cell_type": "code",
   "execution_count": 14,
   "metadata": {
    "scrolled": true
   },
   "outputs": [
    {
     "data": {
      "text/html": [
       "<div>\n",
       "<style scoped>\n",
       "    .dataframe tbody tr th:only-of-type {\n",
       "        vertical-align: middle;\n",
       "    }\n",
       "\n",
       "    .dataframe tbody tr th {\n",
       "        vertical-align: top;\n",
       "    }\n",
       "\n",
       "    .dataframe thead th {\n",
       "        text-align: right;\n",
       "    }\n",
       "</style>\n",
       "<table border=\"1\" class=\"dataframe\">\n",
       "  <thead>\n",
       "    <tr style=\"text-align: right;\">\n",
       "      <th></th>\n",
       "      <th>Country Name</th>\n",
       "      <th>2012</th>\n",
       "    </tr>\n",
       "  </thead>\n",
       "  <tbody>\n",
       "    <tr>\n",
       "      <th>0</th>\n",
       "      <td>Aruba</td>\n",
       "      <td>102577.0</td>\n",
       "    </tr>\n",
       "    <tr>\n",
       "      <th>1</th>\n",
       "      <td>Afghanistan</td>\n",
       "      <td>30696958.0</td>\n",
       "    </tr>\n",
       "    <tr>\n",
       "      <th>2</th>\n",
       "      <td>Angola</td>\n",
       "      <td>25096150.0</td>\n",
       "    </tr>\n",
       "    <tr>\n",
       "      <th>3</th>\n",
       "      <td>Albania</td>\n",
       "      <td>2900401.0</td>\n",
       "    </tr>\n",
       "    <tr>\n",
       "      <th>4</th>\n",
       "      <td>Andorra</td>\n",
       "      <td>82431.0</td>\n",
       "    </tr>\n",
       "  </tbody>\n",
       "</table>\n",
       "</div>"
      ],
      "text/plain": [
       "  Country Name        2012\n",
       "0        Aruba    102577.0\n",
       "1  Afghanistan  30696958.0\n",
       "2       Angola  25096150.0\n",
       "3      Albania   2900401.0\n",
       "4      Andorra     82431.0"
      ]
     },
     "execution_count": 14,
     "metadata": {},
     "output_type": "execute_result"
    }
   ],
   "source": [
    "pop.head()"
   ]
  },
  {
   "cell_type": "code",
   "execution_count": 15,
   "metadata": {},
   "outputs": [],
   "source": [
    "# import gdp data\n",
    "gdp = pd.read_csv(\"%s/GunControl/API_NY.GDP.MKTP.CD_DS2_en_csv_v2_10203569.csv\"%os.getenv(\"PUIDATA\"), header=2)"
   ]
  },
  {
   "cell_type": "code",
   "execution_count": 16,
   "metadata": {},
   "outputs": [],
   "source": [
    "gdp = gdp.drop(labels=['Country Code', 'Indicator Name', 'Indicator Code',\n",
    "       '1960', '1961', '1962', '1963', '1964', '1965', '1966', '1967', '1968',\n",
    "       '1969', '1970', '1971', '1972', '1973', '1974', '1975', '1976', '1977',\n",
    "       '1978', '1979', '1980', '1981', '1982', '1983', '1984', '1985', '1986',\n",
    "       '1987', '1988', '1989', '1990', '1991', '1992', '1993', '1994', '1995',\n",
    "       '1996', '1997', '1998', '1999', '2000', '2001', '2002', '2003', '2004',\n",
    "       '2005', '2006', '2007', '2008', '2009', '2010', '2011',  '2013',\n",
    "       '2014', '2015', '2016', '2017', 'Unnamed: 62'], axis=1)"
   ]
  },
  {
   "cell_type": "code",
   "execution_count": 17,
   "metadata": {},
   "outputs": [
    {
     "data": {
      "text/html": [
       "<div>\n",
       "<style scoped>\n",
       "    .dataframe tbody tr th:only-of-type {\n",
       "        vertical-align: middle;\n",
       "    }\n",
       "\n",
       "    .dataframe tbody tr th {\n",
       "        vertical-align: top;\n",
       "    }\n",
       "\n",
       "    .dataframe thead th {\n",
       "        text-align: right;\n",
       "    }\n",
       "</style>\n",
       "<table border=\"1\" class=\"dataframe\">\n",
       "  <thead>\n",
       "    <tr style=\"text-align: right;\">\n",
       "      <th></th>\n",
       "      <th>Country Name</th>\n",
       "      <th>2012</th>\n",
       "    </tr>\n",
       "  </thead>\n",
       "  <tbody>\n",
       "    <tr>\n",
       "      <th>0</th>\n",
       "      <td>Aruba</td>\n",
       "      <td>NaN</td>\n",
       "    </tr>\n",
       "    <tr>\n",
       "      <th>1</th>\n",
       "      <td>Afghanistan</td>\n",
       "      <td>2.053654e+10</td>\n",
       "    </tr>\n",
       "    <tr>\n",
       "      <th>2</th>\n",
       "      <td>Angola</td>\n",
       "      <td>1.139232e+11</td>\n",
       "    </tr>\n",
       "    <tr>\n",
       "      <th>3</th>\n",
       "      <td>Albania</td>\n",
       "      <td>1.231978e+10</td>\n",
       "    </tr>\n",
       "    <tr>\n",
       "      <th>4</th>\n",
       "      <td>Andorra</td>\n",
       "      <td>3.164615e+09</td>\n",
       "    </tr>\n",
       "  </tbody>\n",
       "</table>\n",
       "</div>"
      ],
      "text/plain": [
       "  Country Name          2012\n",
       "0        Aruba           NaN\n",
       "1  Afghanistan  2.053654e+10\n",
       "2       Angola  1.139232e+11\n",
       "3      Albania  1.231978e+10\n",
       "4      Andorra  3.164615e+09"
      ]
     },
     "execution_count": 17,
     "metadata": {},
     "output_type": "execute_result"
    }
   ],
   "source": [
    "gdp.head()"
   ]
  },
  {
   "cell_type": "code",
   "execution_count": 18,
   "metadata": {},
   "outputs": [],
   "source": [
    "ms = pd.read_csv(\"%s/GunControl/data-pvLFI.csv\"%os.getenv(\"PUIDATA\"))"
   ]
  },
  {
   "cell_type": "code",
   "execution_count": 19,
   "metadata": {},
   "outputs": [
    {
     "data": {
      "text/html": [
       "<div>\n",
       "<style scoped>\n",
       "    .dataframe tbody tr th:only-of-type {\n",
       "        vertical-align: middle;\n",
       "    }\n",
       "\n",
       "    .dataframe tbody tr th {\n",
       "        vertical-align: top;\n",
       "    }\n",
       "\n",
       "    .dataframe thead th {\n",
       "        text-align: right;\n",
       "    }\n",
       "</style>\n",
       "<table border=\"1\" class=\"dataframe\">\n",
       "  <thead>\n",
       "    <tr style=\"text-align: right;\">\n",
       "      <th></th>\n",
       "      <th>Country</th>\n",
       "      <th>Guns per 100 inhabitants</th>\n",
       "      <th>Number of mass shootings (1983-2013)</th>\n",
       "    </tr>\n",
       "  </thead>\n",
       "  <tbody>\n",
       "    <tr>\n",
       "      <th>0</th>\n",
       "      <td>Australia</td>\n",
       "      <td>15.0</td>\n",
       "      <td>4</td>\n",
       "    </tr>\n",
       "    <tr>\n",
       "      <th>1</th>\n",
       "      <td>Austria</td>\n",
       "      <td>30.4</td>\n",
       "      <td>1</td>\n",
       "    </tr>\n",
       "    <tr>\n",
       "      <th>2</th>\n",
       "      <td>Belgium</td>\n",
       "      <td>17.2</td>\n",
       "      <td>2</td>\n",
       "    </tr>\n",
       "    <tr>\n",
       "      <th>3</th>\n",
       "      <td>Canada</td>\n",
       "      <td>30.8</td>\n",
       "      <td>4</td>\n",
       "    </tr>\n",
       "    <tr>\n",
       "      <th>4</th>\n",
       "      <td>Denmark</td>\n",
       "      <td>12.0</td>\n",
       "      <td>0</td>\n",
       "    </tr>\n",
       "  </tbody>\n",
       "</table>\n",
       "</div>"
      ],
      "text/plain": [
       "     Country  Guns per 100 inhabitants  Number of mass shootings (1983-2013)\n",
       "0  Australia                      15.0                                     4\n",
       "1    Austria                      30.4                                     1\n",
       "2    Belgium                      17.2                                     2\n",
       "3     Canada                      30.8                                     4\n",
       "4    Denmark                      12.0                                     0"
      ]
     },
     "execution_count": 19,
     "metadata": {},
     "output_type": "execute_result"
    }
   ],
   "source": [
    "#we want all the data in this file\n",
    "ms.head()"
   ]
  },
  {
   "cell_type": "code",
   "execution_count": 20,
   "metadata": {},
   "outputs": [
    {
     "data": {
      "text/plain": [
       "25"
      ]
     },
     "execution_count": 20,
     "metadata": {},
     "output_type": "execute_result"
    }
   ],
   "source": [
    "len(ms)"
   ]
  },
  {
   "cell_type": "code",
   "execution_count": 21,
   "metadata": {},
   "outputs": [],
   "source": [
    "# now we can merge based on Country Name\n",
    "#let's start with gdp and pop\n",
    "gdpPop = pd.merge(pop, gdp, how='inner', on='Country Name')"
   ]
  },
  {
   "cell_type": "code",
   "execution_count": 22,
   "metadata": {},
   "outputs": [],
   "source": [
    "#rename to gdp and pop\n",
    "gdpPop = gdpPop.rename(columns = {'2012_x': 'pop', '2012_y': 'gdp'})"
   ]
  },
  {
   "cell_type": "code",
   "execution_count": 23,
   "metadata": {},
   "outputs": [
    {
     "data": {
      "text/html": [
       "<div>\n",
       "<style scoped>\n",
       "    .dataframe tbody tr th:only-of-type {\n",
       "        vertical-align: middle;\n",
       "    }\n",
       "\n",
       "    .dataframe tbody tr th {\n",
       "        vertical-align: top;\n",
       "    }\n",
       "\n",
       "    .dataframe thead th {\n",
       "        text-align: right;\n",
       "    }\n",
       "</style>\n",
       "<table border=\"1\" class=\"dataframe\">\n",
       "  <thead>\n",
       "    <tr style=\"text-align: right;\">\n",
       "      <th></th>\n",
       "      <th>Country Name</th>\n",
       "      <th>pop</th>\n",
       "      <th>gdp</th>\n",
       "    </tr>\n",
       "  </thead>\n",
       "  <tbody>\n",
       "    <tr>\n",
       "      <th>0</th>\n",
       "      <td>Aruba</td>\n",
       "      <td>102577.0</td>\n",
       "      <td>NaN</td>\n",
       "    </tr>\n",
       "    <tr>\n",
       "      <th>1</th>\n",
       "      <td>Afghanistan</td>\n",
       "      <td>30696958.0</td>\n",
       "      <td>2.053654e+10</td>\n",
       "    </tr>\n",
       "    <tr>\n",
       "      <th>2</th>\n",
       "      <td>Angola</td>\n",
       "      <td>25096150.0</td>\n",
       "      <td>1.139232e+11</td>\n",
       "    </tr>\n",
       "    <tr>\n",
       "      <th>3</th>\n",
       "      <td>Albania</td>\n",
       "      <td>2900401.0</td>\n",
       "      <td>1.231978e+10</td>\n",
       "    </tr>\n",
       "    <tr>\n",
       "      <th>4</th>\n",
       "      <td>Andorra</td>\n",
       "      <td>82431.0</td>\n",
       "      <td>3.164615e+09</td>\n",
       "    </tr>\n",
       "  </tbody>\n",
       "</table>\n",
       "</div>"
      ],
      "text/plain": [
       "  Country Name         pop           gdp\n",
       "0        Aruba    102577.0           NaN\n",
       "1  Afghanistan  30696958.0  2.053654e+10\n",
       "2       Angola  25096150.0  1.139232e+11\n",
       "3      Albania   2900401.0  1.231978e+10\n",
       "4      Andorra     82431.0  3.164615e+09"
      ]
     },
     "execution_count": 23,
     "metadata": {},
     "output_type": "execute_result"
    }
   ],
   "source": [
    "gdpPop.head()"
   ]
  },
  {
   "cell_type": "code",
   "execution_count": 24,
   "metadata": {},
   "outputs": [],
   "source": [
    "pd.merge?"
   ]
  },
  {
   "cell_type": "code",
   "execution_count": 25,
   "metadata": {},
   "outputs": [],
   "source": [
    "# let's merge with ownership\n",
    "gdpPopOwnership = pd.merge(gdpPop, ownership, how='inner', left_on='Country Name',right_on='Country/Territory')"
   ]
  },
  {
   "cell_type": "code",
   "execution_count": 26,
   "metadata": {},
   "outputs": [
    {
     "data": {
      "text/html": [
       "<div>\n",
       "<style scoped>\n",
       "    .dataframe tbody tr th:only-of-type {\n",
       "        vertical-align: middle;\n",
       "    }\n",
       "\n",
       "    .dataframe tbody tr th {\n",
       "        vertical-align: top;\n",
       "    }\n",
       "\n",
       "    .dataframe thead th {\n",
       "        text-align: right;\n",
       "    }\n",
       "</style>\n",
       "<table border=\"1\" class=\"dataframe\">\n",
       "  <thead>\n",
       "    <tr style=\"text-align: right;\">\n",
       "      <th></th>\n",
       "      <th>Country Name</th>\n",
       "      <th>pop</th>\n",
       "      <th>gdp</th>\n",
       "      <th>Country/Territory</th>\n",
       "      <th>Number of homicides by firearm</th>\n",
       "      <th>Average total all civilian firearms</th>\n",
       "    </tr>\n",
       "  </thead>\n",
       "  <tbody>\n",
       "    <tr>\n",
       "      <th>0</th>\n",
       "      <td>Angola</td>\n",
       "      <td>25096150.0</td>\n",
       "      <td>1.139232e+11</td>\n",
       "      <td>Angola</td>\n",
       "      <td>NaN</td>\n",
       "      <td>2800000.0</td>\n",
       "    </tr>\n",
       "    <tr>\n",
       "      <th>1</th>\n",
       "      <td>Albania</td>\n",
       "      <td>2900401.0</td>\n",
       "      <td>1.231978e+10</td>\n",
       "      <td>Albania</td>\n",
       "      <td>56.0</td>\n",
       "      <td>270000.0</td>\n",
       "    </tr>\n",
       "    <tr>\n",
       "      <th>2</th>\n",
       "      <td>United Arab Emirates</td>\n",
       "      <td>8900453.0</td>\n",
       "      <td>3.745906e+11</td>\n",
       "      <td>United Arab Emirates</td>\n",
       "      <td>NaN</td>\n",
       "      <td>1000000.0</td>\n",
       "    </tr>\n",
       "    <tr>\n",
       "      <th>3</th>\n",
       "      <td>Argentina</td>\n",
       "      <td>42096739.0</td>\n",
       "      <td>5.459824e+11</td>\n",
       "      <td>Argentina</td>\n",
       "      <td>1198.0</td>\n",
       "      <td>3950000.0</td>\n",
       "    </tr>\n",
       "    <tr>\n",
       "      <th>4</th>\n",
       "      <td>Armenia</td>\n",
       "      <td>2881922.0</td>\n",
       "      <td>1.061932e+10</td>\n",
       "      <td>Armenia</td>\n",
       "      <td>9.0</td>\n",
       "      <td>380000.0</td>\n",
       "    </tr>\n",
       "  </tbody>\n",
       "</table>\n",
       "</div>"
      ],
      "text/plain": [
       "           Country Name         pop           gdp     Country/Territory  \\\n",
       "0                Angola  25096150.0  1.139232e+11                Angola   \n",
       "1               Albania   2900401.0  1.231978e+10               Albania   \n",
       "2  United Arab Emirates   8900453.0  3.745906e+11  United Arab Emirates   \n",
       "3             Argentina  42096739.0  5.459824e+11             Argentina   \n",
       "4               Armenia   2881922.0  1.061932e+10               Armenia   \n",
       "\n",
       "   Number of homicides by firearm  Average total all civilian firearms  \n",
       "0                             NaN                            2800000.0  \n",
       "1                            56.0                             270000.0  \n",
       "2                             NaN                            1000000.0  \n",
       "3                          1198.0                            3950000.0  \n",
       "4                             9.0                             380000.0  "
      ]
     },
     "execution_count": 26,
     "metadata": {},
     "output_type": "execute_result"
    }
   ],
   "source": [
    "gdpPopOwnership.head()"
   ]
  },
  {
   "cell_type": "code",
   "execution_count": 27,
   "metadata": {},
   "outputs": [],
   "source": [
    "# final merge with ms\n",
    "gunControl = pd.merge(gdpPopOwnership , ms, how='inner', left_on='Country Name',right_on='Country',sort=True,copy=False)"
   ]
  },
  {
   "cell_type": "code",
   "execution_count": 28,
   "metadata": {},
   "outputs": [
    {
     "data": {
      "text/html": [
       "<div>\n",
       "<style scoped>\n",
       "    .dataframe tbody tr th:only-of-type {\n",
       "        vertical-align: middle;\n",
       "    }\n",
       "\n",
       "    .dataframe tbody tr th {\n",
       "        vertical-align: top;\n",
       "    }\n",
       "\n",
       "    .dataframe thead th {\n",
       "        text-align: right;\n",
       "    }\n",
       "</style>\n",
       "<table border=\"1\" class=\"dataframe\">\n",
       "  <thead>\n",
       "    <tr style=\"text-align: right;\">\n",
       "      <th></th>\n",
       "      <th>Country Name</th>\n",
       "      <th>pop</th>\n",
       "      <th>gdp</th>\n",
       "      <th>Country/Territory</th>\n",
       "      <th>Number of homicides by firearm</th>\n",
       "      <th>Average total all civilian firearms</th>\n",
       "      <th>Country</th>\n",
       "      <th>Guns per 100 inhabitants</th>\n",
       "      <th>Number of mass shootings (1983-2013)</th>\n",
       "    </tr>\n",
       "  </thead>\n",
       "  <tbody>\n",
       "    <tr>\n",
       "      <th>0</th>\n",
       "      <td>Australia</td>\n",
       "      <td>22742475.0</td>\n",
       "      <td>1.543411e+12</td>\n",
       "      <td>Australia</td>\n",
       "      <td>30.0</td>\n",
       "      <td>3050000.0</td>\n",
       "      <td>Australia</td>\n",
       "      <td>15.0</td>\n",
       "      <td>4</td>\n",
       "    </tr>\n",
       "    <tr>\n",
       "      <th>1</th>\n",
       "      <td>Austria</td>\n",
       "      <td>8429991.0</td>\n",
       "      <td>4.094252e+11</td>\n",
       "      <td>Austria</td>\n",
       "      <td>18.0</td>\n",
       "      <td>2500000.0</td>\n",
       "      <td>Austria</td>\n",
       "      <td>30.4</td>\n",
       "      <td>1</td>\n",
       "    </tr>\n",
       "    <tr>\n",
       "      <th>2</th>\n",
       "      <td>Belgium</td>\n",
       "      <td>11128246.0</td>\n",
       "      <td>4.978842e+11</td>\n",
       "      <td>Belgium</td>\n",
       "      <td>70.0</td>\n",
       "      <td>1800000.0</td>\n",
       "      <td>Belgium</td>\n",
       "      <td>17.2</td>\n",
       "      <td>2</td>\n",
       "    </tr>\n",
       "    <tr>\n",
       "      <th>3</th>\n",
       "      <td>Canada</td>\n",
       "      <td>34750545.0</td>\n",
       "      <td>1.824289e+12</td>\n",
       "      <td>Canada</td>\n",
       "      <td>173.0</td>\n",
       "      <td>9950000.0</td>\n",
       "      <td>Canada</td>\n",
       "      <td>30.8</td>\n",
       "      <td>4</td>\n",
       "    </tr>\n",
       "    <tr>\n",
       "      <th>4</th>\n",
       "      <td>Denmark</td>\n",
       "      <td>5591572.0</td>\n",
       "      <td>3.271489e+11</td>\n",
       "      <td>Denmark</td>\n",
       "      <td>15.0</td>\n",
       "      <td>650000.0</td>\n",
       "      <td>Denmark</td>\n",
       "      <td>12.0</td>\n",
       "      <td>0</td>\n",
       "    </tr>\n",
       "  </tbody>\n",
       "</table>\n",
       "</div>"
      ],
      "text/plain": [
       "  Country Name         pop           gdp Country/Territory  \\\n",
       "0    Australia  22742475.0  1.543411e+12         Australia   \n",
       "1      Austria   8429991.0  4.094252e+11           Austria   \n",
       "2      Belgium  11128246.0  4.978842e+11           Belgium   \n",
       "3       Canada  34750545.0  1.824289e+12            Canada   \n",
       "4      Denmark   5591572.0  3.271489e+11           Denmark   \n",
       "\n",
       "   Number of homicides by firearm  Average total all civilian firearms  \\\n",
       "0                            30.0                            3050000.0   \n",
       "1                            18.0                            2500000.0   \n",
       "2                            70.0                            1800000.0   \n",
       "3                           173.0                            9950000.0   \n",
       "4                            15.0                             650000.0   \n",
       "\n",
       "     Country  Guns per 100 inhabitants  Number of mass shootings (1983-2013)  \n",
       "0  Australia                      15.0                                     4  \n",
       "1    Austria                      30.4                                     1  \n",
       "2    Belgium                      17.2                                     2  \n",
       "3     Canada                      30.8                                     4  \n",
       "4    Denmark                      12.0                                     0  "
      ]
     },
     "execution_count": 28,
     "metadata": {},
     "output_type": "execute_result"
    }
   ],
   "source": [
    "gunControl.head()"
   ]
  },
  {
   "cell_type": "code",
   "execution_count": 29,
   "metadata": {},
   "outputs": [
    {
     "data": {
      "text/plain": [
       "Index([u'Country Name', u'pop', u'gdp', u'Country/Territory',\n",
       "       u'Number of homicides by firearm',\n",
       "       u'Average total all civilian firearms', u'Country',\n",
       "       u'Guns per 100 inhabitants', u'Number of mass shootings (1983-2013)'],\n",
       "      dtype='object')"
      ]
     },
     "execution_count": 29,
     "metadata": {},
     "output_type": "execute_result"
    }
   ],
   "source": [
    "gunControl.columns"
   ]
  },
  {
   "cell_type": "code",
   "execution_count": 30,
   "metadata": {},
   "outputs": [],
   "source": [
    "gunControl = gunControl.drop(labels=['Country/Territory','Country'],axis=1)"
   ]
  },
  {
   "cell_type": "code",
   "execution_count": 31,
   "metadata": {},
   "outputs": [
    {
     "data": {
      "text/html": [
       "<div>\n",
       "<style scoped>\n",
       "    .dataframe tbody tr th:only-of-type {\n",
       "        vertical-align: middle;\n",
       "    }\n",
       "\n",
       "    .dataframe tbody tr th {\n",
       "        vertical-align: top;\n",
       "    }\n",
       "\n",
       "    .dataframe thead th {\n",
       "        text-align: right;\n",
       "    }\n",
       "</style>\n",
       "<table border=\"1\" class=\"dataframe\">\n",
       "  <thead>\n",
       "    <tr style=\"text-align: right;\">\n",
       "      <th></th>\n",
       "      <th>Country Name</th>\n",
       "      <th>pop</th>\n",
       "      <th>gdp</th>\n",
       "      <th>Number of homicides by firearm</th>\n",
       "      <th>Average total all civilian firearms</th>\n",
       "      <th>Guns per 100 inhabitants</th>\n",
       "      <th>Number of mass shootings (1983-2013)</th>\n",
       "    </tr>\n",
       "  </thead>\n",
       "  <tbody>\n",
       "    <tr>\n",
       "      <th>0</th>\n",
       "      <td>Australia</td>\n",
       "      <td>22742475.0</td>\n",
       "      <td>1.543411e+12</td>\n",
       "      <td>30.0</td>\n",
       "      <td>3050000.0</td>\n",
       "      <td>15.0</td>\n",
       "      <td>4</td>\n",
       "    </tr>\n",
       "    <tr>\n",
       "      <th>1</th>\n",
       "      <td>Austria</td>\n",
       "      <td>8429991.0</td>\n",
       "      <td>4.094252e+11</td>\n",
       "      <td>18.0</td>\n",
       "      <td>2500000.0</td>\n",
       "      <td>30.4</td>\n",
       "      <td>1</td>\n",
       "    </tr>\n",
       "    <tr>\n",
       "      <th>2</th>\n",
       "      <td>Belgium</td>\n",
       "      <td>11128246.0</td>\n",
       "      <td>4.978842e+11</td>\n",
       "      <td>70.0</td>\n",
       "      <td>1800000.0</td>\n",
       "      <td>17.2</td>\n",
       "      <td>2</td>\n",
       "    </tr>\n",
       "    <tr>\n",
       "      <th>3</th>\n",
       "      <td>Canada</td>\n",
       "      <td>34750545.0</td>\n",
       "      <td>1.824289e+12</td>\n",
       "      <td>173.0</td>\n",
       "      <td>9950000.0</td>\n",
       "      <td>30.8</td>\n",
       "      <td>4</td>\n",
       "    </tr>\n",
       "    <tr>\n",
       "      <th>4</th>\n",
       "      <td>Denmark</td>\n",
       "      <td>5591572.0</td>\n",
       "      <td>3.271489e+11</td>\n",
       "      <td>15.0</td>\n",
       "      <td>650000.0</td>\n",
       "      <td>12.0</td>\n",
       "      <td>0</td>\n",
       "    </tr>\n",
       "  </tbody>\n",
       "</table>\n",
       "</div>"
      ],
      "text/plain": [
       "  Country Name         pop           gdp  Number of homicides by firearm  \\\n",
       "0    Australia  22742475.0  1.543411e+12                            30.0   \n",
       "1      Austria   8429991.0  4.094252e+11                            18.0   \n",
       "2      Belgium  11128246.0  4.978842e+11                            70.0   \n",
       "3       Canada  34750545.0  1.824289e+12                           173.0   \n",
       "4      Denmark   5591572.0  3.271489e+11                            15.0   \n",
       "\n",
       "   Average total all civilian firearms  Guns per 100 inhabitants  \\\n",
       "0                            3050000.0                      15.0   \n",
       "1                            2500000.0                      30.4   \n",
       "2                            1800000.0                      17.2   \n",
       "3                            9950000.0                      30.8   \n",
       "4                             650000.0                      12.0   \n",
       "\n",
       "   Number of mass shootings (1983-2013)  \n",
       "0                                     4  \n",
       "1                                     1  \n",
       "2                                     2  \n",
       "3                                     4  \n",
       "4                                     0  "
      ]
     },
     "execution_count": 31,
     "metadata": {},
     "output_type": "execute_result"
    }
   ],
   "source": [
    "gunControl.head()"
   ]
  },
  {
   "cell_type": "markdown",
   "metadata": {},
   "source": [
    "# Exploration"
   ]
  },
  {
   "cell_type": "markdown",
   "metadata": {},
   "source": [
    "## Plot mass shooting vs gdp in absolute numbers, and per person. Show the errorbars (y errors)"
   ]
  },
  {
   "cell_type": "code",
   "execution_count": 32,
   "metadata": {},
   "outputs": [],
   "source": [
    "#plot per person\n",
    "gunControl['shootingspp'] = gunControl['Number of mass shootings (1983-2013)'] / gunControl['pop'] * 1e3"
   ]
  },
  {
   "cell_type": "code",
   "execution_count": 33,
   "metadata": {},
   "outputs": [
    {
     "data": {
      "image/png": "[encoded data removed]",
      "text/plain": [
       "<matplotlib.figure.Figure at 0x7f5454766bd0>"
      ]
     },
     "metadata": {},
     "output_type": "display_data"
    },
    {
     "name": "stdout",
     "output_type": "stream",
     "text": [
      "Number of mass shooting vs GDP, errors represent Poisson statistics.\n",
      "The datapoint to the top right of the plot is the USA, which has both the highest GDP and the highest number of mass shootings\n"
     ]
    }
   ],
   "source": [
    "# do it as subplots\n",
    "fig, ax = pl.subplots(2, figsize=(16,6))\n",
    "\n",
    "pl.subplot(121)\n",
    "scatter = pl.scatter(gunControl.gdp / 1e9, gunControl['Number of mass shootings (1983-2013)'])\n",
    "pl.errorbar(gunControl.gdp / 1e9, gunControl['Number of mass shootings (1983-2013)'], \n",
    "            yerr = np.sqrt(gunControl['Number of mass shootings (1983-2013)'] * 1.0), fmt = '.')\n",
    "pl.xlabel(\"GDP (in billions)\")\n",
    "pl.ylabel(\"Number of Mass Shootings in Absolute\")\n",
    "pl.ylim()\n",
    "pl.title('The Number of Mass Shootings by Country vs GDP')\n",
    "\n",
    "pl.subplot(122)\n",
    "scatter = pl.scatter(gunControl.gdp / 1e9, gunControl['shootingspp'])\n",
    "pl.errorbar(gunControl.gdp / 1e9, gunControl['shootingspp'], \n",
    "            yerr = np.sqrt(gunControl['shootingspp'] * 1.0), fmt = '.')\n",
    "plt.xlabel(\"GDP (in billions)\")\n",
    "pl.ylabel(\"Number of Mass Shootings per person\")\n",
    "pl.ylim()\n",
    "pl.title('The Number of Mass Shootings Per Person by Country vs GDP')\n",
    "\n",
    "pl.show()\n",
    "print (\"Number of mass shooting vs GDP, \" + \n",
    "       \"errors represent Poisson statistics.\\n\" + \n",
    "       \"The datapoint to the top right of the plot is the USA, \" + \n",
    "       \"which has both the highest GDP and the highest number of mass shootings\")\n",
    "\n"
   ]
  },
  {
   "cell_type": "markdown",
   "metadata": {},
   "source": [
    "Notice the outlier of the United States, which is very far from all the other points with regard to the number of mass shootings, as well as GDP. The error bar is also particularly longer than the other countries.\n",
    "\n",
    "When we plot the number of mass shootings per person, the error bar we see is relatively long, showing a level of uncertainty. When we break this up the number of shootings per person, the United states becomes less of an outlier.  "
   ]
  },
  {
   "cell_type": "markdown",
   "metadata": {},
   "source": [
    "## Plot the average number of civilian fire arms per person\n",
    "## first without errors, then with errors. are there points that look like outliers?"
   ]
  },
  {
   "cell_type": "code",
   "execution_count": 34,
   "metadata": {},
   "outputs": [],
   "source": [
    "# obtain average number of civilian fire arms per person per person\n",
    "gunControl['armspp'] = gunControl['Average total all civilian firearms'] / gunControl['pop'] * 1e3"
   ]
  },
  {
   "cell_type": "code",
   "execution_count": 35,
   "metadata": {},
   "outputs": [
    {
     "data": {
      "text/html": [
       "<div>\n",
       "<style scoped>\n",
       "    .dataframe tbody tr th:only-of-type {\n",
       "        vertical-align: middle;\n",
       "    }\n",
       "\n",
       "    .dataframe tbody tr th {\n",
       "        vertical-align: top;\n",
       "    }\n",
       "\n",
       "    .dataframe thead th {\n",
       "        text-align: right;\n",
       "    }\n",
       "</style>\n",
       "<table border=\"1\" class=\"dataframe\">\n",
       "  <thead>\n",
       "    <tr style=\"text-align: right;\">\n",
       "      <th></th>\n",
       "      <th>Country Name</th>\n",
       "      <th>pop</th>\n",
       "      <th>gdp</th>\n",
       "      <th>Number of homicides by firearm</th>\n",
       "      <th>Average total all civilian firearms</th>\n",
       "      <th>Guns per 100 inhabitants</th>\n",
       "      <th>Number of mass shootings (1983-2013)</th>\n",
       "      <th>shootingspp</th>\n",
       "      <th>armspp</th>\n",
       "    </tr>\n",
       "  </thead>\n",
       "  <tbody>\n",
       "    <tr>\n",
       "      <th>22</th>\n",
       "      <td>United States</td>\n",
       "      <td>313993272.0</td>\n",
       "      <td>1.615526e+13</td>\n",
       "      <td>9146.0</td>\n",
       "      <td>270000000.0</td>\n",
       "      <td>88.8</td>\n",
       "      <td>78</td>\n",
       "      <td>0.000248</td>\n",
       "      <td>859.891036</td>\n",
       "    </tr>\n",
       "  </tbody>\n",
       "</table>\n",
       "</div>"
      ],
      "text/plain": [
       "     Country Name          pop           gdp  Number of homicides by firearm  \\\n",
       "22  United States  313993272.0  1.615526e+13                          9146.0   \n",
       "\n",
       "    Average total all civilian firearms  Guns per 100 inhabitants  \\\n",
       "22                          270000000.0                      88.8   \n",
       "\n",
       "    Number of mass shootings (1983-2013)  shootingspp      armspp  \n",
       "22                                    78     0.000248  859.891036  "
      ]
     },
     "execution_count": 35,
     "metadata": {},
     "output_type": "execute_result"
    }
   ],
   "source": [
    "# Shoulda known USA would be wicked high\n",
    "gunControl[gunControl['Country Name'] == 'United States']"
   ]
  },
  {
   "cell_type": "code",
   "execution_count": 36,
   "metadata": {},
   "outputs": [
    {
     "data": {
      "image/png": "[encoded data removed]",
      "text/plain": [
       "<matplotlib.figure.Figure at 0x7f545402da90>"
      ]
     },
     "metadata": {},
     "output_type": "display_data"
    },
    {
     "name": "stdout",
     "output_type": "stream",
     "text": [
      "Average Number of Civilian Fire Arms Per Person, errors represent Gaussian statistics or √N .\n",
      "The 1 bar to the right of the plot is the USA, which has the highest number of Civilian Fire Arms Per Person\n"
     ]
    }
   ],
   "source": [
    "fig, ax = pl.subplots(2, figsize=(16,6))\n",
    "\n",
    "pl.subplot(121)\n",
    "skh_plt.hist(gunControl['armspp'])\n",
    "pl.xlabel(\"GDP (in billions)\")\n",
    "pl.ylabel(\"Number of Mass Shootings in Absolute\")\n",
    "pl.ylim()\n",
    "pl.title('Average Number of Civilian Fire Arms Per Person Without Errors')\n",
    "\n",
    "pl.subplot(122)\n",
    "skh_plt.hist(gunControl['armspp'], errorbars=True,err_style='line')\n",
    "plt.xlabel(\"GDP (in billions)\")\n",
    "pl.ylabel(\"Number of Mass Shootings per person\")\n",
    "pl.ylim()\n",
    "pl.title('Average Number of Civilian Fire Arms Per Person With Errors')\n",
    "\n",
    "pl.show()\n",
    "print (\"Average Number of Civilian Fire Arms Per Person, \" + \n",
    "       \"errors represent Gaussian statistics or √N .\\n\" + \n",
    "       \"The 1 bar to the right of the plot is the USA, \" + \n",
    "       \"which has the highest number of Civilian Fire Arms Per Person\")\n"
   ]
  },
  {
   "cell_type": "markdown",
   "metadata": {},
   "source": [
    "The USA sure likes their guns, again they are an obvious outlier, with almost double the rest of the world's average number of firearms per person. \n",
    "\n",
    "\n",
    "The errors are shown with a line to mark the level of uncertainty for each country's aggregation. We see a relatively high level of uncertainty for each number of country."
   ]
  },
  {
   "cell_type": "markdown",
   "metadata": {},
   "source": [
    "## Plot the average number of homicide by fire arms per person\n",
    "\n",
    "### First as a histogram"
   ]
  },
  {
   "cell_type": "code",
   "execution_count": 37,
   "metadata": {},
   "outputs": [],
   "source": [
    "# obtain average number of civilian fire arms per person \n",
    "gunControl['homicidepp'] = gunControl['Number of homicides by firearm'] / gunControl['pop'] * 1e3"
   ]
  },
  {
   "cell_type": "code",
   "execution_count": 38,
   "metadata": {},
   "outputs": [
    {
     "data": {
      "text/html": [
       "<div>\n",
       "<style scoped>\n",
       "    .dataframe tbody tr th:only-of-type {\n",
       "        vertical-align: middle;\n",
       "    }\n",
       "\n",
       "    .dataframe tbody tr th {\n",
       "        vertical-align: top;\n",
       "    }\n",
       "\n",
       "    .dataframe thead th {\n",
       "        text-align: right;\n",
       "    }\n",
       "</style>\n",
       "<table border=\"1\" class=\"dataframe\">\n",
       "  <thead>\n",
       "    <tr style=\"text-align: right;\">\n",
       "      <th></th>\n",
       "      <th>Country Name</th>\n",
       "      <th>pop</th>\n",
       "      <th>gdp</th>\n",
       "      <th>Number of homicides by firearm</th>\n",
       "      <th>Average total all civilian firearms</th>\n",
       "      <th>Guns per 100 inhabitants</th>\n",
       "      <th>Number of mass shootings (1983-2013)</th>\n",
       "      <th>shootingspp</th>\n",
       "      <th>armspp</th>\n",
       "      <th>homicidepp</th>\n",
       "    </tr>\n",
       "  </thead>\n",
       "  <tbody>\n",
       "    <tr>\n",
       "      <th>22</th>\n",
       "      <td>United States</td>\n",
       "      <td>313993272.0</td>\n",
       "      <td>1.615526e+13</td>\n",
       "      <td>9146.0</td>\n",
       "      <td>270000000.0</td>\n",
       "      <td>88.8</td>\n",
       "      <td>78</td>\n",
       "      <td>0.000248</td>\n",
       "      <td>859.891036</td>\n",
       "      <td>0.029128</td>\n",
       "    </tr>\n",
       "  </tbody>\n",
       "</table>\n",
       "</div>"
      ],
      "text/plain": [
       "     Country Name          pop           gdp  Number of homicides by firearm  \\\n",
       "22  United States  313993272.0  1.615526e+13                          9146.0   \n",
       "\n",
       "    Average total all civilian firearms  Guns per 100 inhabitants  \\\n",
       "22                          270000000.0                      88.8   \n",
       "\n",
       "    Number of mass shootings (1983-2013)  shootingspp      armspp  homicidepp  \n",
       "22                                    78     0.000248  859.891036    0.029128  "
      ]
     },
     "execution_count": 38,
     "metadata": {},
     "output_type": "execute_result"
    }
   ],
   "source": [
    "# a look at our outlier\n",
    "gunControl[gunControl['Country Name'] == 'United States']"
   ]
  },
  {
   "cell_type": "code",
   "execution_count": 39,
   "metadata": {},
   "outputs": [
    {
     "data": {
      "image/png": "[encoded data removed]",
      "text/plain": [
       "<matplotlib.figure.Figure at 0x7f5453eba890>"
      ]
     },
     "metadata": {},
     "output_type": "display_data"
    },
    {
     "name": "stdout",
     "output_type": "stream",
     "text": [
      "Average Number of Homicide by Fire Arm, errors represent Gaussian statistics or √N .\n",
      "The 1 bar to the right of the plot is the USA, which has the highest number of Homicide by Fire Arm Per Person...shocker\n"
     ]
    }
   ],
   "source": [
    "fig, ax = pl.subplots(2, figsize=(16,6))\n",
    "\n",
    "pl.subplot(121)\n",
    "skh_plt.hist(gunControl['homicidepp'])\n",
    "pl.xlabel(\"Average Number of Homicide by Fire Arm Per Person & Per Capita\")\n",
    "pl.ylabel(\"Number of Countries\")\n",
    "pl.ylim()\n",
    "pl.title('Average Number of Homicide by Fire Arm Per Person Without Errors')\n",
    "\n",
    "pl.subplot(122)\n",
    "skh_plt.hist(gunControl['homicidepp'], errorbars=True,err_style='line')\n",
    "plt.xlabel(\"Average Number of Homicide by Fire Arm Per Person & Per Capita\")\n",
    "pl.ylabel(\"Number of Countries\")\n",
    "pl.ylim()\n",
    "pl.title('Average Number of Homicide by Fire Arms Per Person With Errors')\n",
    "\n",
    "pl.show()\n",
    "print (\"Average Number of Homicide by Fire Arm, \" + \n",
    "       \"errors represent Gaussian statistics or √N .\\n\" + \n",
    "       \"The 1 bar to the right of the plot is the USA, \" + \n",
    "       \"which has the highest number of Homicide by Fire Arm Per Person...shocker\")\n"
   ]
  },
  {
   "cell_type": "markdown",
   "metadata": {},
   "source": [
    "### Then against the country GDP, with statistical errors. are there points that look like outliers"
   ]
  },
  {
   "cell_type": "code",
   "execution_count": 40,
   "metadata": {},
   "outputs": [
    {
     "data": {
      "image/png": "[encoded data removed]",
      "text/plain": [
       "<matplotlib.figure.Figure at 0x7f5453e500d0>"
      ]
     },
     "metadata": {},
     "output_type": "display_data"
    },
    {
     "name": "stdout",
     "output_type": "stream",
     "text": [
      "To the right, we have the Number of Homicide by Fire Arm vs GDP, errors represent Poisson statistics.\n",
      "The datapoint furthest to the right of the plot is the USA, which has both the highest GDP and the higher number of  homicide by fire arm. This outlier is also apparent when we just look at average number of homicide by fire arm per   person without GDP.\n"
     ]
    }
   ],
   "source": [
    "fig, ax = pl.subplots(2, figsize=(16,6))\n",
    "\n",
    "pl.subplot(121)\n",
    "scatter = pl.scatter(gunControl.gdp / 1e9, gunControl['homicidepp'])\n",
    "pl.errorbar(gunControl.gdp / 1e9, gunControl['homicidepp'], \n",
    "            yerr = np.sqrt(gunControl['homicidepp'] * 1.0), fmt = '.')\n",
    "pl.xlabel(\"GDP (in billions)\")\n",
    "pl.ylabel(\"Average Number of Homicide by Fire Arm Per Person\")\n",
    "pl.ylim()\n",
    "pl.title('Average Number of Homicide by Fire Arm Per Person vs GDP')\n",
    "\n",
    "pl.subplot(122)\n",
    "pl.subplot(122)\n",
    "skh_plt.hist(gunControl['homicidepp'], errorbars=True,err_style='line')\n",
    "plt.xlabel(\"Average Number of Homicide by Fire Arm Per Person & Per Capita\")\n",
    "pl.ylabel(\"Number of Countries\")\n",
    "pl.ylim()\n",
    "pl.title('Average Number of Homicide by Fire Arm Per Person')\n",
    "\n",
    "\n",
    "pl.show()\n",
    "print (\"To the right, we have the Number of Homicide by Fire Arm vs GDP, \" + \n",
    "       \"errors represent Poisson statistics.\\n\" + \n",
    "       \"The datapoint furthest to the right of the plot is the USA, \" + \n",
    "       \"which has both the highest GDP and the higher number \" + \n",
    "       \"of  homicide by fire arm. This outlier is also apparent when we just look at average number \" +\n",
    "       \"of homicide by fire arm per   person without GDP.\")\n",
    "\n"
   ]
  },
  {
   "cell_type": "markdown",
   "metadata": {},
   "source": [
    "## Plot the number of homicides by fire arm against the number of civilian firearms. plot the US in a different color"
   ]
  },
  {
   "cell_type": "code",
   "execution_count": 41,
   "metadata": {},
   "outputs": [
    {
     "data": {
      "text/html": [
       "<div>\n",
       "<style scoped>\n",
       "    .dataframe tbody tr th:only-of-type {\n",
       "        vertical-align: middle;\n",
       "    }\n",
       "\n",
       "    .dataframe tbody tr th {\n",
       "        vertical-align: top;\n",
       "    }\n",
       "\n",
       "    .dataframe thead th {\n",
       "        text-align: right;\n",
       "    }\n",
       "</style>\n",
       "<table border=\"1\" class=\"dataframe\">\n",
       "  <thead>\n",
       "    <tr style=\"text-align: right;\">\n",
       "      <th></th>\n",
       "      <th>Country Name</th>\n",
       "      <th>pop</th>\n",
       "      <th>gdp</th>\n",
       "      <th>Number of homicides by firearm</th>\n",
       "      <th>Average total all civilian firearms</th>\n",
       "      <th>Guns per 100 inhabitants</th>\n",
       "      <th>Number of mass shootings (1983-2013)</th>\n",
       "      <th>shootingspp</th>\n",
       "      <th>armspp</th>\n",
       "      <th>homicidepp</th>\n",
       "    </tr>\n",
       "  </thead>\n",
       "  <tbody>\n",
       "    <tr>\n",
       "      <th>0</th>\n",
       "      <td>Australia</td>\n",
       "      <td>22742475.0</td>\n",
       "      <td>1.543411e+12</td>\n",
       "      <td>30.0</td>\n",
       "      <td>3050000.0</td>\n",
       "      <td>15.0</td>\n",
       "      <td>4</td>\n",
       "      <td>0.000176</td>\n",
       "      <td>134.110294</td>\n",
       "      <td>0.001319</td>\n",
       "    </tr>\n",
       "    <tr>\n",
       "      <th>1</th>\n",
       "      <td>Austria</td>\n",
       "      <td>8429991.0</td>\n",
       "      <td>4.094252e+11</td>\n",
       "      <td>18.0</td>\n",
       "      <td>2500000.0</td>\n",
       "      <td>30.4</td>\n",
       "      <td>1</td>\n",
       "      <td>0.000119</td>\n",
       "      <td>296.560222</td>\n",
       "      <td>0.002135</td>\n",
       "    </tr>\n",
       "    <tr>\n",
       "      <th>2</th>\n",
       "      <td>Belgium</td>\n",
       "      <td>11128246.0</td>\n",
       "      <td>4.978842e+11</td>\n",
       "      <td>70.0</td>\n",
       "      <td>1800000.0</td>\n",
       "      <td>17.2</td>\n",
       "      <td>2</td>\n",
       "      <td>0.000180</td>\n",
       "      <td>161.750558</td>\n",
       "      <td>0.006290</td>\n",
       "    </tr>\n",
       "    <tr>\n",
       "      <th>3</th>\n",
       "      <td>Canada</td>\n",
       "      <td>34750545.0</td>\n",
       "      <td>1.824289e+12</td>\n",
       "      <td>173.0</td>\n",
       "      <td>9950000.0</td>\n",
       "      <td>30.8</td>\n",
       "      <td>4</td>\n",
       "      <td>0.000115</td>\n",
       "      <td>286.326445</td>\n",
       "      <td>0.004978</td>\n",
       "    </tr>\n",
       "    <tr>\n",
       "      <th>4</th>\n",
       "      <td>Denmark</td>\n",
       "      <td>5591572.0</td>\n",
       "      <td>3.271489e+11</td>\n",
       "      <td>15.0</td>\n",
       "      <td>650000.0</td>\n",
       "      <td>12.0</td>\n",
       "      <td>0</td>\n",
       "      <td>0.000000</td>\n",
       "      <td>116.246379</td>\n",
       "      <td>0.002683</td>\n",
       "    </tr>\n",
       "  </tbody>\n",
       "</table>\n",
       "</div>"
      ],
      "text/plain": [
       "  Country Name         pop           gdp  Number of homicides by firearm  \\\n",
       "0    Australia  22742475.0  1.543411e+12                            30.0   \n",
       "1      Austria   8429991.0  4.094252e+11                            18.0   \n",
       "2      Belgium  11128246.0  4.978842e+11                            70.0   \n",
       "3       Canada  34750545.0  1.824289e+12                           173.0   \n",
       "4      Denmark   5591572.0  3.271489e+11                            15.0   \n",
       "\n",
       "   Average total all civilian firearms  Guns per 100 inhabitants  \\\n",
       "0                            3050000.0                      15.0   \n",
       "1                            2500000.0                      30.4   \n",
       "2                            1800000.0                      17.2   \n",
       "3                            9950000.0                      30.8   \n",
       "4                             650000.0                      12.0   \n",
       "\n",
       "   Number of mass shootings (1983-2013)  shootingspp      armspp  homicidepp  \n",
       "0                                     4     0.000176  134.110294    0.001319  \n",
       "1                                     1     0.000119  296.560222    0.002135  \n",
       "2                                     2     0.000180  161.750558    0.006290  \n",
       "3                                     4     0.000115  286.326445    0.004978  \n",
       "4                                     0     0.000000  116.246379    0.002683  "
      ]
     },
     "execution_count": 41,
     "metadata": {},
     "output_type": "execute_result"
    }
   ],
   "source": [
    "gunControl.head()"
   ]
  },
  {
   "cell_type": "code",
   "execution_count": 42,
   "metadata": {},
   "outputs": [],
   "source": [
    "# USA! USA! USA! she commented ironically\n",
    "USA = gunControl[gunControl['Country Name'] == 'United States']"
   ]
  },
  {
   "cell_type": "code",
   "execution_count": 43,
   "metadata": {},
   "outputs": [
    {
     "data": {
      "image/png": "[encoded data removed]",
      "text/plain": [
       "<matplotlib.figure.Figure at 0x7f5454766810>"
      ]
     },
     "metadata": {},
     "output_type": "display_data"
    }
   ],
   "source": [
    "# do it as subplots\n",
    "fig, ax = pl.subplots(2, figsize=(16,6))\n",
    "\n",
    "pl.subplot(121)\n",
    "scatter = pl.scatter(gunControl['Number of homicides by firearm'],\n",
    "                     gunControl['Average total all civilian firearms']/ 1e3)\n",
    "pl.errorbar(gunControl['Number of homicides by firearm'],\n",
    "            gunControl['Average total all civilian firearms']/ 1e3, \n",
    "            yerr = np.sqrt(gunControl['Average total all civilian firearms']* 1.0), fmt = '.')\n",
    "pl.scatter(USA['Number of homicides by firearm'], USA['Average total all civilian firearms']/ 1e3, c='red')\n",
    "pl.errorbar(USA['Number of homicides by firearm'], USA['Average total all civilian firearms']/ 1e3, \n",
    "            yerr = np.sqrt(USA['Average total all civilian firearms']* 1.0), fmt = '.',c='red')\n",
    "pl.xlabel(\"Number of homicides by firearm\")\n",
    "pl.ylabel(\"Average total all civilian firearms\")\n",
    "pl.ylim()\n",
    "pl.title('With error')\n",
    "\n",
    "pl.subplot(122)\n",
    "scatter = pl.scatter(gunControl['Number of homicides by firearm'],\n",
    "                     gunControl['Average total all civilian firearms']/ 1e3)\n",
    "pl.scatter(USA['Number of homicides by firearm'], USA['Average total all civilian firearms']/ 1e3, c='red')\n",
    "pl.xlabel(\"Number of homicides by firearm\")\n",
    "pl.ylabel(\"Average total all civilian firearms\")\n",
    "pl.ylim()\n",
    "pl.title('Without error')\n",
    "\n",
    "\n",
    "fig.suptitle('The Number of Homicides by Firearm vs Average Total all civilian firearms')\n",
    "pl.show()"
   ]
  },
  {
   "cell_type": "markdown",
   "metadata": {},
   "source": [
    "Here is a plot of the number of homicides by firearm vs average total of all civilian firearms for each country. Notice the United States highlighted in Red... Again the outlier with a significantly larger number of homicides by firearm with a large correlation with high number of civilian firearms. It would be interesting to find the various degree of gun control severity for each country and see if there was a relationship there. "
   ]
  },
  {
   "cell_type": "code",
   "execution_count": 44,
   "metadata": {},
   "outputs": [
    {
     "data": {
      "text/html": [
       "<div>\n",
       "<style scoped>\n",
       "    .dataframe tbody tr th:only-of-type {\n",
       "        vertical-align: middle;\n",
       "    }\n",
       "\n",
       "    .dataframe tbody tr th {\n",
       "        vertical-align: top;\n",
       "    }\n",
       "\n",
       "    .dataframe thead th {\n",
       "        text-align: right;\n",
       "    }\n",
       "</style>\n",
       "<table border=\"1\" class=\"dataframe\">\n",
       "  <thead>\n",
       "    <tr style=\"text-align: right;\">\n",
       "      <th></th>\n",
       "      <th>Country Name</th>\n",
       "      <th>pop</th>\n",
       "      <th>gdp</th>\n",
       "      <th>Number of homicides by firearm</th>\n",
       "      <th>Average total all civilian firearms</th>\n",
       "      <th>Guns per 100 inhabitants</th>\n",
       "      <th>Number of mass shootings (1983-2013)</th>\n",
       "      <th>shootingspp</th>\n",
       "      <th>armspp</th>\n",
       "      <th>homicidepp</th>\n",
       "    </tr>\n",
       "  </thead>\n",
       "  <tbody>\n",
       "    <tr>\n",
       "      <th>0</th>\n",
       "      <td>Australia</td>\n",
       "      <td>22742475.0</td>\n",
       "      <td>1.543411e+12</td>\n",
       "      <td>30.0</td>\n",
       "      <td>3050000.0</td>\n",
       "      <td>15.0</td>\n",
       "      <td>4</td>\n",
       "      <td>0.000176</td>\n",
       "      <td>134.110294</td>\n",
       "      <td>0.001319</td>\n",
       "    </tr>\n",
       "    <tr>\n",
       "      <th>1</th>\n",
       "      <td>Austria</td>\n",
       "      <td>8429991.0</td>\n",
       "      <td>4.094252e+11</td>\n",
       "      <td>18.0</td>\n",
       "      <td>2500000.0</td>\n",
       "      <td>30.4</td>\n",
       "      <td>1</td>\n",
       "      <td>0.000119</td>\n",
       "      <td>296.560222</td>\n",
       "      <td>0.002135</td>\n",
       "    </tr>\n",
       "    <tr>\n",
       "      <th>2</th>\n",
       "      <td>Belgium</td>\n",
       "      <td>11128246.0</td>\n",
       "      <td>4.978842e+11</td>\n",
       "      <td>70.0</td>\n",
       "      <td>1800000.0</td>\n",
       "      <td>17.2</td>\n",
       "      <td>2</td>\n",
       "      <td>0.000180</td>\n",
       "      <td>161.750558</td>\n",
       "      <td>0.006290</td>\n",
       "    </tr>\n",
       "    <tr>\n",
       "      <th>3</th>\n",
       "      <td>Canada</td>\n",
       "      <td>34750545.0</td>\n",
       "      <td>1.824289e+12</td>\n",
       "      <td>173.0</td>\n",
       "      <td>9950000.0</td>\n",
       "      <td>30.8</td>\n",
       "      <td>4</td>\n",
       "      <td>0.000115</td>\n",
       "      <td>286.326445</td>\n",
       "      <td>0.004978</td>\n",
       "    </tr>\n",
       "    <tr>\n",
       "      <th>4</th>\n",
       "      <td>Denmark</td>\n",
       "      <td>5591572.0</td>\n",
       "      <td>3.271489e+11</td>\n",
       "      <td>15.0</td>\n",
       "      <td>650000.0</td>\n",
       "      <td>12.0</td>\n",
       "      <td>0</td>\n",
       "      <td>0.000000</td>\n",
       "      <td>116.246379</td>\n",
       "      <td>0.002683</td>\n",
       "    </tr>\n",
       "  </tbody>\n",
       "</table>\n",
       "</div>"
      ],
      "text/plain": [
       "  Country Name         pop           gdp  Number of homicides by firearm  \\\n",
       "0    Australia  22742475.0  1.543411e+12                            30.0   \n",
       "1      Austria   8429991.0  4.094252e+11                            18.0   \n",
       "2      Belgium  11128246.0  4.978842e+11                            70.0   \n",
       "3       Canada  34750545.0  1.824289e+12                           173.0   \n",
       "4      Denmark   5591572.0  3.271489e+11                            15.0   \n",
       "\n",
       "   Average total all civilian firearms  Guns per 100 inhabitants  \\\n",
       "0                            3050000.0                      15.0   \n",
       "1                            2500000.0                      30.4   \n",
       "2                            1800000.0                      17.2   \n",
       "3                            9950000.0                      30.8   \n",
       "4                             650000.0                      12.0   \n",
       "\n",
       "   Number of mass shootings (1983-2013)  shootingspp      armspp  homicidepp  \n",
       "0                                     4     0.000176  134.110294    0.001319  \n",
       "1                                     1     0.000119  296.560222    0.002135  \n",
       "2                                     2     0.000180  161.750558    0.006290  \n",
       "3                                     4     0.000115  286.326445    0.004978  \n",
       "4                                     0     0.000000  116.246379    0.002683  "
      ]
     },
     "execution_count": 44,
     "metadata": {},
     "output_type": "execute_result"
    }
   ],
   "source": [
    "gunControl.head()"
   ]
  },
  {
   "cell_type": "markdown",
   "metadata": {},
   "source": [
    "### Plot the number of mass shootings against the number of civilian firearms. plot the US in a different color"
   ]
  },
  {
   "cell_type": "code",
   "execution_count": 45,
   "metadata": {},
   "outputs": [
    {
     "data": {
      "image/png": "[encoded data removed]",
      "text/plain": [
       "<matplotlib.figure.Figure at 0x7f54539c13d0>"
      ]
     },
     "metadata": {},
     "output_type": "display_data"
    }
   ],
   "source": [
    "# do it as subplots\n",
    "fig, ax = pl.subplots(2, figsize=(16,6))\n",
    "\n",
    "pl.subplot(121)\n",
    "scatter = pl.scatter(gunControl['Number of mass shootings (1983-2013)'],\n",
    "                     gunControl['Average total all civilian firearms']/ 1e3)\n",
    "pl.errorbar(gunControl['Number of mass shootings (1983-2013)'], \n",
    "            gunControl['Average total all civilian firearms']/ 1e3, \n",
    "            yerr = np.sqrt(gunControl['Average total all civilian firearms']* 1.0), fmt = '.')\n",
    "pl.scatter(USA['Number of mass shootings (1983-2013)'], USA['Average total all civilian firearms']/ 1e3, c='red')\n",
    "pl.errorbar(USA['Number of mass shootings (1983-2013)'], USA['Average total all civilian firearms']/ 1e3, \n",
    "            yerr = np.sqrt(USA['Average total all civilian firearms']* 1.0), fmt = '.',c='red')\n",
    "pl.xlabel(\"Number of mass shootings (1983-2013)\")\n",
    "pl.ylabel(\"Average total all civilian firearms\")\n",
    "pl.ylim()\n",
    "pl.title('With error')\n",
    "\n",
    "pl.subplot(122)\n",
    "scatter = pl.scatter(gunControl['Number of mass shootings (1983-2013)'],\n",
    "                     gunControl['Average total all civilian firearms']/ 1e3)\n",
    "pl.scatter(USA['Number of mass shootings (1983-2013)'], USA['Average total all civilian firearms']/ 1e3, c='red')\n",
    "pl.xlabel(\"Number of mass shootings (1983-2013)\")\n",
    "pl.ylabel(\"Average total all civilian firearms\")\n",
    "pl.ylim()\n",
    "pl.title('Without error')\n",
    "\n",
    "\n",
    "fig.suptitle('The Number of mass shootings (1983-2013) vs Average Total all civilian firearms')\n",
    "pl.show()\n"
   ]
  },
  {
   "cell_type": "markdown",
   "metadata": {},
   "source": [
    "Here is a plot of the number of mass shootings vs average total of all civilian firearms for each country. Notice the United States highlighted in Red... Again the outlier with a significantly larger number of mass shootings with a large correlation with high number of civilian firearms. It seems any which way we slice it, the USA has a disproportionate amount of mass shootings, firearms and homicide. Maybe this should cause some changes in the United State's policy outlook."
   ]
  },
  {
   "cell_type": "markdown",
   "metadata": {},
   "source": [
    "# Modeling"
   ]
  },
  {
   "cell_type": "markdown",
   "metadata": {},
   "source": [
    "## Fit a line to the Number of mass shootings per person as a function of Average total all civilian firearms per person."
   ]
  },
  {
   "cell_type": "code",
   "execution_count": 46,
   "metadata": {},
   "outputs": [],
   "source": [
    "#Make both quantities of the same order of magnitude\n",
    "gunControl['magMassShootpp'] = gunControl['shootingspp']/gunControl['shootingspp'].mean()\n",
    "gunControl['magarmspp'] =gunControl['armspp']/gunControl['armspp'].mean()"
   ]
  },
  {
   "cell_type": "code",
   "execution_count": 47,
   "metadata": {},
   "outputs": [
    {
     "data": {
      "text/html": [
       "<div>\n",
       "<style scoped>\n",
       "    .dataframe tbody tr th:only-of-type {\n",
       "        vertical-align: middle;\n",
       "    }\n",
       "\n",
       "    .dataframe tbody tr th {\n",
       "        vertical-align: top;\n",
       "    }\n",
       "\n",
       "    .dataframe thead th {\n",
       "        text-align: right;\n",
       "    }\n",
       "</style>\n",
       "<table border=\"1\" class=\"dataframe\">\n",
       "  <thead>\n",
       "    <tr style=\"text-align: right;\">\n",
       "      <th></th>\n",
       "      <th>Country Name</th>\n",
       "      <th>pop</th>\n",
       "      <th>gdp</th>\n",
       "      <th>Number of homicides by firearm</th>\n",
       "      <th>Average total all civilian firearms</th>\n",
       "      <th>Guns per 100 inhabitants</th>\n",
       "      <th>Number of mass shootings (1983-2013)</th>\n",
       "      <th>shootingspp</th>\n",
       "      <th>armspp</th>\n",
       "      <th>homicidepp</th>\n",
       "      <th>magMassShootpp</th>\n",
       "      <th>magarmspp</th>\n",
       "    </tr>\n",
       "  </thead>\n",
       "  <tbody>\n",
       "    <tr>\n",
       "      <th>0</th>\n",
       "      <td>Australia</td>\n",
       "      <td>22742475.0</td>\n",
       "      <td>1.543411e+12</td>\n",
       "      <td>30.0</td>\n",
       "      <td>3050000.0</td>\n",
       "      <td>15.0</td>\n",
       "      <td>4</td>\n",
       "      <td>0.000176</td>\n",
       "      <td>134.110294</td>\n",
       "      <td>0.001319</td>\n",
       "      <td>1.423355</td>\n",
       "      <td>0.593366</td>\n",
       "    </tr>\n",
       "    <tr>\n",
       "      <th>1</th>\n",
       "      <td>Austria</td>\n",
       "      <td>8429991.0</td>\n",
       "      <td>4.094252e+11</td>\n",
       "      <td>18.0</td>\n",
       "      <td>2500000.0</td>\n",
       "      <td>30.4</td>\n",
       "      <td>1</td>\n",
       "      <td>0.000119</td>\n",
       "      <td>296.560222</td>\n",
       "      <td>0.002135</td>\n",
       "      <td>0.959983</td>\n",
       "      <td>1.312121</td>\n",
       "    </tr>\n",
       "    <tr>\n",
       "      <th>2</th>\n",
       "      <td>Belgium</td>\n",
       "      <td>11128246.0</td>\n",
       "      <td>4.978842e+11</td>\n",
       "      <td>70.0</td>\n",
       "      <td>1800000.0</td>\n",
       "      <td>17.2</td>\n",
       "      <td>2</td>\n",
       "      <td>0.000180</td>\n",
       "      <td>161.750558</td>\n",
       "      <td>0.006290</td>\n",
       "      <td>1.454434</td>\n",
       "      <td>0.715660</td>\n",
       "    </tr>\n",
       "    <tr>\n",
       "      <th>3</th>\n",
       "      <td>Canada</td>\n",
       "      <td>34750545.0</td>\n",
       "      <td>1.824289e+12</td>\n",
       "      <td>173.0</td>\n",
       "      <td>9950000.0</td>\n",
       "      <td>30.8</td>\n",
       "      <td>4</td>\n",
       "      <td>0.000115</td>\n",
       "      <td>286.326445</td>\n",
       "      <td>0.004978</td>\n",
       "      <td>0.931514</td>\n",
       "      <td>1.266842</td>\n",
       "    </tr>\n",
       "    <tr>\n",
       "      <th>4</th>\n",
       "      <td>Denmark</td>\n",
       "      <td>5591572.0</td>\n",
       "      <td>3.271489e+11</td>\n",
       "      <td>15.0</td>\n",
       "      <td>650000.0</td>\n",
       "      <td>12.0</td>\n",
       "      <td>0</td>\n",
       "      <td>0.000000</td>\n",
       "      <td>116.246379</td>\n",
       "      <td>0.002683</td>\n",
       "      <td>0.000000</td>\n",
       "      <td>0.514328</td>\n",
       "    </tr>\n",
       "  </tbody>\n",
       "</table>\n",
       "</div>"
      ],
      "text/plain": [
       "  Country Name         pop           gdp  Number of homicides by firearm  \\\n",
       "0    Australia  22742475.0  1.543411e+12                            30.0   \n",
       "1      Austria   8429991.0  4.094252e+11                            18.0   \n",
       "2      Belgium  11128246.0  4.978842e+11                            70.0   \n",
       "3       Canada  34750545.0  1.824289e+12                           173.0   \n",
       "4      Denmark   5591572.0  3.271489e+11                            15.0   \n",
       "\n",
       "   Average total all civilian firearms  Guns per 100 inhabitants  \\\n",
       "0                            3050000.0                      15.0   \n",
       "1                            2500000.0                      30.4   \n",
       "2                            1800000.0                      17.2   \n",
       "3                            9950000.0                      30.8   \n",
       "4                             650000.0                      12.0   \n",
       "\n",
       "   Number of mass shootings (1983-2013)  shootingspp      armspp  homicidepp  \\\n",
       "0                                     4     0.000176  134.110294    0.001319   \n",
       "1                                     1     0.000119  296.560222    0.002135   \n",
       "2                                     2     0.000180  161.750558    0.006290   \n",
       "3                                     4     0.000115  286.326445    0.004978   \n",
       "4                                     0     0.000000  116.246379    0.002683   \n",
       "\n",
       "   magMassShootpp  magarmspp  \n",
       "0        1.423355   0.593366  \n",
       "1        0.959983   1.312121  \n",
       "2        1.454434   0.715660  \n",
       "3        0.931514   1.266842  \n",
       "4        0.000000   0.514328  "
      ]
     },
     "execution_count": 47,
     "metadata": {},
     "output_type": "execute_result"
    }
   ],
   "source": [
    "gunControl.head()"
   ]
  },
  {
   "cell_type": "markdown",
   "metadata": {},
   "source": [
    "## With statsmodels OLS"
   ]
  },
  {
   "cell_type": "code",
   "execution_count": 48,
   "metadata": {},
   "outputs": [
    {
     "data": {
      "text/html": [
       "<table class=\"simpletable\">\n",
       "<caption>OLS Regression Results</caption>\n",
       "<tr>\n",
       "  <th>Dep. Variable:</th>     <td>magMassShootpp</td>  <th>  R-squared:         </th> <td>   0.192</td>\n",
       "</tr>\n",
       "<tr>\n",
       "  <th>Model:</th>                   <td>OLS</td>       <th>  Adj. R-squared:    </th> <td>   0.153</td>\n",
       "</tr>\n",
       "<tr>\n",
       "  <th>Method:</th>             <td>Least Squares</td>  <th>  F-statistic:       </th> <td>   4.981</td>\n",
       "</tr>\n",
       "<tr>\n",
       "  <th>Date:</th>             <td>Tue, 13 Nov 2018</td> <th>  Prob (F-statistic):</th>  <td>0.0367</td> \n",
       "</tr>\n",
       "<tr>\n",
       "  <th>Time:</th>                 <td>19:23:20</td>     <th>  Log-Likelihood:    </th> <td> -35.808</td>\n",
       "</tr>\n",
       "<tr>\n",
       "  <th>No. Observations:</th>      <td>    23</td>      <th>  AIC:               </th> <td>   75.62</td>\n",
       "</tr>\n",
       "<tr>\n",
       "  <th>Df Residuals:</th>          <td>    21</td>      <th>  BIC:               </th> <td>   77.89</td>\n",
       "</tr>\n",
       "<tr>\n",
       "  <th>Df Model:</th>              <td>     1</td>      <th>                     </th>     <td> </td>   \n",
       "</tr>\n",
       "<tr>\n",
       "  <th>Covariance Type:</th>      <td>nonrobust</td>    <th>                     </th>     <td> </td>   \n",
       "</tr>\n",
       "</table>\n",
       "<table class=\"simpletable\">\n",
       "<tr>\n",
       "      <td></td>         <th>coef</th>     <th>std err</th>      <th>t</th>      <th>P>|t|</th>  <th>[0.025</th>    <th>0.975]</th>  \n",
       "</tr>\n",
       "<tr>\n",
       "  <th>const</th>     <td>    0.2981</td> <td>    0.402</td> <td>    0.742</td> <td> 0.467</td> <td>   -0.538</td> <td>    1.134</td>\n",
       "</tr>\n",
       "<tr>\n",
       "  <th>magarmspp</th> <td>    0.7019</td> <td>    0.314</td> <td>    2.232</td> <td> 0.037</td> <td>    0.048</td> <td>    1.356</td>\n",
       "</tr>\n",
       "</table>\n",
       "<table class=\"simpletable\">\n",
       "<tr>\n",
       "  <th>Omnibus:</th>       <td>34.558</td> <th>  Durbin-Watson:     </th> <td>   1.982</td>\n",
       "</tr>\n",
       "<tr>\n",
       "  <th>Prob(Omnibus):</th> <td> 0.000</td> <th>  Jarque-Bera (JB):  </th> <td>  88.760</td>\n",
       "</tr>\n",
       "<tr>\n",
       "  <th>Skew:</th>          <td> 2.666</td> <th>  Prob(JB):          </th> <td>5.32e-20</td>\n",
       "</tr>\n",
       "<tr>\n",
       "  <th>Kurtosis:</th>      <td>11.012</td> <th>  Cond. No.          </th> <td>    2.97</td>\n",
       "</tr>\n",
       "</table><br/><br/>Warnings:<br/>[1] Standard Errors assume that the covariance matrix of the errors is correctly specified."
      ],
      "text/plain": [
       "<class 'statsmodels.iolib.summary.Summary'>\n",
       "\"\"\"\n",
       "                            OLS Regression Results                            \n",
       "==============================================================================\n",
       "Dep. Variable:         magMassShootpp   R-squared:                       0.192\n",
       "Model:                            OLS   Adj. R-squared:                  0.153\n",
       "Method:                 Least Squares   F-statistic:                     4.981\n",
       "Date:                Tue, 13 Nov 2018   Prob (F-statistic):             0.0367\n",
       "Time:                        19:23:20   Log-Likelihood:                -35.808\n",
       "No. Observations:                  23   AIC:                             75.62\n",
       "Df Residuals:                      21   BIC:                             77.89\n",
       "Df Model:                           1                                         \n",
       "Covariance Type:            nonrobust                                         \n",
       "==============================================================================\n",
       "                 coef    std err          t      P>|t|      [0.025      0.975]\n",
       "------------------------------------------------------------------------------\n",
       "const          0.2981      0.402      0.742      0.467      -0.538       1.134\n",
       "magarmspp      0.7019      0.314      2.232      0.037       0.048       1.356\n",
       "==============================================================================\n",
       "Omnibus:                       34.558   Durbin-Watson:                   1.982\n",
       "Prob(Omnibus):                  0.000   Jarque-Bera (JB):               88.760\n",
       "Skew:                           2.666   Prob(JB):                     5.32e-20\n",
       "Kurtosis:                      11.012   Cond. No.                         2.97\n",
       "==============================================================================\n",
       "\n",
       "Warnings:\n",
       "[1] Standard Errors assume that the covariance matrix of the errors is correctly specified.\n",
       "\"\"\""
      ]
     },
     "execution_count": 48,
     "metadata": {},
     "output_type": "execute_result"
    }
   ],
   "source": [
    "# use statsmodels.api.OLS to fit x and y\n",
    "smfit = sm.OLS(gunControl['magMassShootpp'], sm.add_constant(gunControl['magarmspp'])).fit()\n",
    "smfit.summary()"
   ]
  },
  {
   "cell_type": "code",
   "execution_count": 49,
   "metadata": {},
   "outputs": [],
   "source": [
    "## statsmodels WLS\n",
    "# Create Weights used from assignment 2\n",
    "def weights(x):\n",
    "    var = np.sqrt(np.std(x))\n",
    "    x = 1 / (x * var)\n",
    "    return x"
   ]
  },
  {
   "cell_type": "code",
   "execution_count": 50,
   "metadata": {},
   "outputs": [],
   "source": [
    "# make values that are inf into 0\n",
    "def infRemover(x):\n",
    "    for i in range(len(x)):\n",
    "        if x[i] == inf:\n",
    "            x[i] = 0\n",
    "    return x\n"
   ]
  },
  {
   "cell_type": "markdown",
   "metadata": {},
   "source": [
    "Justification: because we are dividing the values that are 0 by 0, the result is inf. I decided to override these values of inf and make them into 0. This still uses the formula for the weight = 1.0/df.yerror Notice that a - sqrt(0) = 0. And avoids having a model that results in inf."
   ]
  },
  {
   "cell_type": "code",
   "execution_count": 51,
   "metadata": {
    "scrolled": true
   },
   "outputs": [
    {
     "data": {
      "text/html": [
       "<table class=\"simpletable\">\n",
       "<caption>WLS Regression Results</caption>\n",
       "<tr>\n",
       "  <th>Dep. Variable:</th>     <td>magMassShootpp</td>  <th>  R-squared:         </th> <td>   0.360</td>\n",
       "</tr>\n",
       "<tr>\n",
       "  <th>Model:</th>                   <td>WLS</td>       <th>  Adj. R-squared:    </th> <td>   0.329</td>\n",
       "</tr>\n",
       "<tr>\n",
       "  <th>Method:</th>             <td>Least Squares</td>  <th>  F-statistic:       </th> <td>   11.80</td>\n",
       "</tr>\n",
       "<tr>\n",
       "  <th>Date:</th>             <td>Tue, 13 Nov 2018</td> <th>  Prob (F-statistic):</th>  <td>0.00249</td>\n",
       "</tr>\n",
       "<tr>\n",
       "  <th>Time:</th>                 <td>19:23:20</td>     <th>  Log-Likelihood:    </th> <td> -31.813</td>\n",
       "</tr>\n",
       "<tr>\n",
       "  <th>No. Observations:</th>      <td>    23</td>      <th>  AIC:               </th> <td>   67.63</td>\n",
       "</tr>\n",
       "<tr>\n",
       "  <th>Df Residuals:</th>          <td>    21</td>      <th>  BIC:               </th> <td>   69.90</td>\n",
       "</tr>\n",
       "<tr>\n",
       "  <th>Df Model:</th>              <td>     1</td>      <th>                     </th>     <td> </td>   \n",
       "</tr>\n",
       "<tr>\n",
       "  <th>Covariance Type:</th>      <td>nonrobust</td>    <th>                     </th>     <td> </td>   \n",
       "</tr>\n",
       "</table>\n",
       "<table class=\"simpletable\">\n",
       "<tr>\n",
       "      <td></td>         <th>coef</th>     <th>std err</th>      <th>t</th>      <th>P>|t|</th>  <th>[0.025</th>    <th>0.975]</th>  \n",
       "</tr>\n",
       "<tr>\n",
       "  <th>const</th>     <td>   -0.0297</td> <td>    0.154</td> <td>   -0.193</td> <td> 0.849</td> <td>   -0.351</td> <td>    0.291</td>\n",
       "</tr>\n",
       "<tr>\n",
       "  <th>magarmspp</th> <td>    1.0297</td> <td>    0.300</td> <td>    3.435</td> <td> 0.002</td> <td>    0.406</td> <td>    1.653</td>\n",
       "</tr>\n",
       "</table>\n",
       "<table class=\"simpletable\">\n",
       "<tr>\n",
       "  <th>Omnibus:</th>       <td>35.848</td> <th>  Durbin-Watson:     </th> <td>   2.011</td>\n",
       "</tr>\n",
       "<tr>\n",
       "  <th>Prob(Omnibus):</th> <td> 0.000</td> <th>  Jarque-Bera (JB):  </th> <td>  98.203</td>\n",
       "</tr>\n",
       "<tr>\n",
       "  <th>Skew:</th>          <td> 2.744</td> <th>  Prob(JB):          </th> <td>4.74e-22</td>\n",
       "</tr>\n",
       "<tr>\n",
       "  <th>Kurtosis:</th>      <td>11.507</td> <th>  Cond. No.          </th> <td>    2.46</td>\n",
       "</tr>\n",
       "</table><br/><br/>Warnings:<br/>[1] Standard Errors assume that the covariance matrix of the errors is correctly specified."
      ],
      "text/plain": [
       "<class 'statsmodels.iolib.summary.Summary'>\n",
       "\"\"\"\n",
       "                            WLS Regression Results                            \n",
       "==============================================================================\n",
       "Dep. Variable:         magMassShootpp   R-squared:                       0.360\n",
       "Model:                            WLS   Adj. R-squared:                  0.329\n",
       "Method:                 Least Squares   F-statistic:                     11.80\n",
       "Date:                Tue, 13 Nov 2018   Prob (F-statistic):            0.00249\n",
       "Time:                        19:23:20   Log-Likelihood:                -31.813\n",
       "No. Observations:                  23   AIC:                             67.63\n",
       "Df Residuals:                      21   BIC:                             69.90\n",
       "Df Model:                           1                                         \n",
       "Covariance Type:            nonrobust                                         \n",
       "==============================================================================\n",
       "                 coef    std err          t      P>|t|      [0.025      0.975]\n",
       "------------------------------------------------------------------------------\n",
       "const         -0.0297      0.154     -0.193      0.849      -0.351       0.291\n",
       "magarmspp      1.0297      0.300      3.435      0.002       0.406       1.653\n",
       "==============================================================================\n",
       "Omnibus:                       35.848   Durbin-Watson:                   2.011\n",
       "Prob(Omnibus):                  0.000   Jarque-Bera (JB):               98.203\n",
       "Skew:                           2.744   Prob(JB):                     4.74e-22\n",
       "Kurtosis:                      11.507   Cond. No.                         2.46\n",
       "==============================================================================\n",
       "\n",
       "Warnings:\n",
       "[1] Standard Errors assume that the covariance matrix of the errors is correctly specified.\n",
       "\"\"\""
      ]
     },
     "execution_count": 51,
     "metadata": {},
     "output_type": "execute_result"
    }
   ],
   "source": [
    "wmfit= sm.WLS(gunControl['magMassShootpp'], sm.add_constant(gunControl['magarmspp']),weights = infRemover(weights(gunControl['magarmspp']))).fit()\n",
    "wmfit.summary()\n"
   ]
  },
  {
   "cell_type": "code",
   "execution_count": 52,
   "metadata": {},
   "outputs": [],
   "source": [
    "def errors(x):\n",
    "    return np.sqrt(x)"
   ]
  },
  {
   "cell_type": "code",
   "execution_count": 53,
   "metadata": {
    "scrolled": false
   },
   "outputs": [
    {
     "data": {
      "text/plain": [
       "<matplotlib.legend.Legend at 0x7f54543a2a10>"
      ]
     },
     "execution_count": 53,
     "metadata": {},
     "output_type": "execute_result"
    },
    {
     "data": {
      "image/png": "[encoded data removed]",
      "text/plain": [
       "<matplotlib.figure.Figure at 0x7f5453a1af10>"
      ]
     },
     "metadata": {},
     "output_type": "display_data"
    }
   ],
   "source": [
    "fig = pl.figure(figsize=(10,10))\n",
    "ax = fig.add_subplot(221)\n",
    "ax.scatter(gunControl['magarmspp'],gunControl['magMassShootpp'], label = \"Points\")\n",
    "ax.plot(gunControl['magarmspp'], smfit.fittedvalues, 'r', label = \"OLS Model fit\")\n",
    "ax.plot(gunControl['magarmspp'], wmfit.fittedvalues, 'b', \n",
    "         label = \"WLS fit\")\n",
    "ax.set_xlabel('Arms pp')\n",
    "ax.set_ylabel(' Mass Shootings pp')\n",
    "ax.set_title('Using statsmodels OLS')\n",
    "ax.legend()\n",
    "ax2 = fig.add_subplot(222)\n",
    "ax2.plot(gunControl['magarmspp'], smfit.fittedvalues, 'r', label = \"OLS Model fit\")\n",
    "ax2.plot(gunControl['magarmspp'], wmfit.fittedvalues, 'b', \n",
    "         label = \"WLS fit\")\n",
    "ax2.errorbar(gunControl['magarmspp'], gunControl['magMassShootpp'], yerr=errors(gunControl['magarmspp']), fmt='.',label = \"error\")\n",
    "ax2.set_xlabel('Arms pp')\n",
    "ax2.set_ylabel(' Mass Shootings pp') \n",
    "ax2.set_title('With Error Bars')\n",
    "ax2.legend()"
   ]
  },
  {
   "cell_type": "markdown",
   "metadata": {},
   "source": [
    "Here we see the graphs of the different fits we used to model our data. From our summary tables, we see the WLS Model had a higher R squared value, probably because it took the outlier of the US less into account compared to when we don't weight the values of higher magnitude in the OLS fit.\n",
    "\n",
    "We see the slope of the blue WLS model is more steep to account for values more accurately due to the weights. Our errors also get larger as the Arms per person increases, perhaps this has an effect on why the slope is more steep in our WLS model fit."
   ]
  },
  {
   "cell_type": "code",
   "execution_count": 63,
   "metadata": {},
   "outputs": [],
   "source": [
    "### creating a function that calculates the residuals and minimizing that function"
   ]
  },
  {
   "cell_type": "code",
   "execution_count": 57,
   "metadata": {},
   "outputs": [],
   "source": [
    "x = gunControl['magarmspp'] \n",
    "y = gunControl['magMassShootpp']"
   ]
  },
  {
   "cell_type": "code",
   "execution_count": 65,
   "metadata": {
    "scrolled": true
   },
   "outputs": [
    {
     "data": {
      "image/png": "[encoded data removed]",
      "text/plain": [
       "<matplotlib.figure.Figure at 0x7f54541d8910>"
      ]
     },
     "metadata": {},
     "output_type": "display_data"
    }
   ],
   "source": [
    "# from assignment 2\n",
    "# statsmodels.formula.api accepts dictionaris, pandas dataframes, and python rec arrays as input: \n",
    "# all data types that host data paired with labels\n",
    "smfmodel = smf.ols('y ~ x + const', data={'x':x, 'y':y, 'const':np.ones(len(x))}).fit()\n",
    "pl.errorbar(x, y, yerr=errors(x), fmt='.')\n",
    "pl.plot(x, smfit.fittedvalues, '-', label=\"sm.OLS\")\n",
    "pl.plot(x, smfmodel.fittedvalues, '-', label=\"smf.ols\")\n",
    "pl.xlabel('Arms pp')\n",
    "pl.ylabel(' Mass Shootings pp')\n",
    "pl.title('Residuals and Minimizing Function')\n",
    "pl.legend();"
   ]
  },
  {
   "cell_type": "markdown",
   "metadata": {},
   "source": [
    "Here is the residual plot to see the distance from the fitted line in our model. We also see the variance of the error bars. Which grow as we go farther from 0."
   ]
  },
  {
   "cell_type": "code",
   "execution_count": 59,
   "metadata": {},
   "outputs": [
    {
     "data": {
      "text/plain": [
       "<matplotlib.text.Text at 0x7f54544a2a10>"
      ]
     },
     "execution_count": 59,
     "metadata": {},
     "output_type": "execute_result"
    },
    {
     "data": {
      "image/png": "[encoded data removed]",
      "text/plain": [
       "<matplotlib.figure.Figure at 0x7f54542bba50>"
      ]
     },
     "metadata": {},
     "output_type": "display_data"
    }
   ],
   "source": [
    "#Plot data and a linear regression model fit to show the confidence intervals\n",
    "sns.regplot(x='magarmspp', y=\"magMassShootpp\", data=gunControl)\n",
    "plt.title('Linear Regression Model Fit with Confidence Intervals')"
   ]
  },
  {
   "cell_type": "markdown",
   "metadata": {},
   "source": [
    "Here we see the confidence intervals for each value. We see that the confidence interval is relatively narrow for the values around 0-1 in average arms per person. However when we approach the outlier to the right, we see the confidence interval grow indicating that this perhaps an outlier we should remove."
   ]
  },
  {
   "cell_type": "markdown",
   "metadata": {},
   "source": [
    "## Use the stsatsmodels.gaphics package to plot the influence plot."
   ]
  },
  {
   "cell_type": "code",
   "execution_count": 60,
   "metadata": {
    "scrolled": true
   },
   "outputs": [
    {
     "data": {
      "image/png": "[encoded data removed]",
      "text/plain": [
       "<matplotlib.figure.Figure at 0x7f54536d12d0>"
      ]
     },
     "metadata": {},
     "output_type": "display_data"
    }
   ],
   "source": [
    "sm.graphics.influence_plot(smfit, alpha  = 0.05, criterion=\"cooks\");"
   ]
  },
  {
   "cell_type": "markdown",
   "metadata": {},
   "source": [
    "Here we see how our model is influenced by values. The bubble is defined by the combination of large residuals and a high influence value. This is aligned with the two outliers in our confidence interval above. Where point 22 and 15 differ with regard to relevant or should perhaps be removed is with their points of leverage.  \n",
    "\n",
    "The United States is an outlier that has a large influence, where New Zealand is also an outlier but does not. Perhaps this is because of the disproportionate number of mass shootings comparatively. One is 3, the other is 78."
   ]
  },
  {
   "cell_type": "code",
   "execution_count": 61,
   "metadata": {},
   "outputs": [
    {
     "data": {
      "text/html": [
       "<div>\n",
       "<style scoped>\n",
       "    .dataframe tbody tr th:only-of-type {\n",
       "        vertical-align: middle;\n",
       "    }\n",
       "\n",
       "    .dataframe tbody tr th {\n",
       "        vertical-align: top;\n",
       "    }\n",
       "\n",
       "    .dataframe thead th {\n",
       "        text-align: right;\n",
       "    }\n",
       "</style>\n",
       "<table border=\"1\" class=\"dataframe\">\n",
       "  <thead>\n",
       "    <tr style=\"text-align: right;\">\n",
       "      <th></th>\n",
       "      <th>Country Name</th>\n",
       "      <th>pop</th>\n",
       "      <th>gdp</th>\n",
       "      <th>Number of homicides by firearm</th>\n",
       "      <th>Average total all civilian firearms</th>\n",
       "      <th>Guns per 100 inhabitants</th>\n",
       "      <th>Number of mass shootings (1983-2013)</th>\n",
       "      <th>shootingspp</th>\n",
       "      <th>armspp</th>\n",
       "      <th>homicidepp</th>\n",
       "      <th>magMassShootpp</th>\n",
       "      <th>magarmspp</th>\n",
       "    </tr>\n",
       "  </thead>\n",
       "  <tbody>\n",
       "    <tr>\n",
       "      <th>15</th>\n",
       "      <td>New Zealand</td>\n",
       "      <td>4408100.0</td>\n",
       "      <td>1.761929e+11</td>\n",
       "      <td>7.0</td>\n",
       "      <td>925000.0</td>\n",
       "      <td>22.6</td>\n",
       "      <td>3</td>\n",
       "      <td>0.000681</td>\n",
       "      <td>209.840975</td>\n",
       "      <td>0.001588</td>\n",
       "      <td>5.507578</td>\n",
       "      <td>0.928434</td>\n",
       "    </tr>\n",
       "  </tbody>\n",
       "</table>\n",
       "</div>"
      ],
      "text/plain": [
       "   Country Name        pop           gdp  Number of homicides by firearm  \\\n",
       "15  New Zealand  4408100.0  1.761929e+11                             7.0   \n",
       "\n",
       "    Average total all civilian firearms  Guns per 100 inhabitants  \\\n",
       "15                             925000.0                      22.6   \n",
       "\n",
       "    Number of mass shootings (1983-2013)  shootingspp      armspp  homicidepp  \\\n",
       "15                                     3     0.000681  209.840975    0.001588   \n",
       "\n",
       "    magMassShootpp  magarmspp  \n",
       "15        5.507578   0.928434  "
      ]
     },
     "execution_count": 61,
     "metadata": {},
     "output_type": "execute_result"
    }
   ],
   "source": [
    "gunControl[gunControl.index == 15]"
   ]
  },
  {
   "cell_type": "code",
   "execution_count": 62,
   "metadata": {},
   "outputs": [
    {
     "data": {
      "text/html": [
       "<div>\n",
       "<style scoped>\n",
       "    .dataframe tbody tr th:only-of-type {\n",
       "        vertical-align: middle;\n",
       "    }\n",
       "\n",
       "    .dataframe tbody tr th {\n",
       "        vertical-align: top;\n",
       "    }\n",
       "\n",
       "    .dataframe thead th {\n",
       "        text-align: right;\n",
       "    }\n",
       "</style>\n",
       "<table border=\"1\" class=\"dataframe\">\n",
       "  <thead>\n",
       "    <tr style=\"text-align: right;\">\n",
       "      <th></th>\n",
       "      <th>Country Name</th>\n",
       "      <th>pop</th>\n",
       "      <th>gdp</th>\n",
       "      <th>Number of homicides by firearm</th>\n",
       "      <th>Average total all civilian firearms</th>\n",
       "      <th>Guns per 100 inhabitants</th>\n",
       "      <th>Number of mass shootings (1983-2013)</th>\n",
       "      <th>shootingspp</th>\n",
       "      <th>armspp</th>\n",
       "      <th>homicidepp</th>\n",
       "      <th>magMassShootpp</th>\n",
       "      <th>magarmspp</th>\n",
       "    </tr>\n",
       "  </thead>\n",
       "  <tbody>\n",
       "    <tr>\n",
       "      <th>22</th>\n",
       "      <td>United States</td>\n",
       "      <td>313993272.0</td>\n",
       "      <td>1.615526e+13</td>\n",
       "      <td>9146.0</td>\n",
       "      <td>270000000.0</td>\n",
       "      <td>88.8</td>\n",
       "      <td>78</td>\n",
       "      <td>0.000248</td>\n",
       "      <td>859.891036</td>\n",
       "      <td>0.029128</td>\n",
       "      <td>2.01032</td>\n",
       "      <td>3.804559</td>\n",
       "    </tr>\n",
       "  </tbody>\n",
       "</table>\n",
       "</div>"
      ],
      "text/plain": [
       "     Country Name          pop           gdp  Number of homicides by firearm  \\\n",
       "22  United States  313993272.0  1.615526e+13                          9146.0   \n",
       "\n",
       "    Average total all civilian firearms  Guns per 100 inhabitants  \\\n",
       "22                          270000000.0                      88.8   \n",
       "\n",
       "    Number of mass shootings (1983-2013)  shootingspp      armspp  homicidepp  \\\n",
       "22                                    78     0.000248  859.891036    0.029128   \n",
       "\n",
       "    magMassShootpp  magarmspp  \n",
       "22         2.01032   3.804559  "
      ]
     },
     "execution_count": 62,
     "metadata": {},
     "output_type": "execute_result"
    }
   ],
   "source": [
    "\n",
    "gunControl[gunControl['Country Name'] == 'United States']"
   ]
  },
  {
   "cell_type": "markdown",
   "metadata": {},
   "source": [
    "## Extra credit: calculate the confidence interval by hand and also plot them"
   ]
  },
  {
   "cell_type": "markdown",
   "metadata": {},
   "source": [
    "1) confidence interval of the model parameters slope and intercept: define sigma as the sum of the residuals over the square root of number n of observations.\n",
    "\n",
    "sigma: σ̂ =sqrt(Sum((Yoberved_i−Ypredicted_i)^2)/n)\n",
    "\n",
    "where the sum is over all observations\n",
    "\n",
    "Define t_alpha/2,n-2 the t statistics at (1-alpha/2) for a t distribution with n-2 degrees of freedom (you can calculate it with scipy tp = sp.stats.t.ppf(0.975, n-2)"
   ]
  },
  {
   "cell_type": "code",
   "execution_count": null,
   "metadata": {},
   "outputs": [],
   "source": [
    "def weights(x):\n",
    "    var = np.sqrt(np.std(x))\n",
    "    x = 1 / (x * var)\n",
    "    return x"
   ]
  },
  {
   "cell_type": "code",
   "execution_count": 68,
   "metadata": {},
   "outputs": [
    {
     "data": {
      "text/plain": [
       "23"
      ]
     },
     "execution_count": 68,
     "metadata": {},
     "output_type": "execute_result"
    }
   ],
   "source": [
    "len(smfit.fittedvalues)"
   ]
  },
  {
   "cell_type": "code",
   "execution_count": 81,
   "metadata": {},
   "outputs": [
    {
     "data": {
      "text/plain": [
       "1.1479169408985268"
      ]
     },
     "execution_count": 81,
     "metadata": {},
     "output_type": "execute_result"
    }
   ],
   "source": [
    "sigma(y)"
   ]
  },
  {
   "cell_type": "code",
   "execution_count": 84,
   "metadata": {},
   "outputs": [
    {
     "data": {
      "text/plain": [
       "1.0000000000000002"
      ]
     },
     "execution_count": 84,
     "metadata": {},
     "output_type": "execute_result"
    }
   ],
   "source": [
    "x.mean()"
   ]
  },
  {
   "cell_type": "code",
   "execution_count": 83,
   "metadata": {},
   "outputs": [],
   "source": [
    "x = gunControl['magarmspp'] \n",
    "y = gunControl['magMassShootpp']\n",
    "n = len(smfit.fittedvalues)\n",
    "# Make sigma\n",
    "def sigma(y):\n",
    "    var = ((y - smfit.fittedvalues)**2)/n\n",
    "    return np.sqrt(sum(var))"
   ]
  },
  {
   "cell_type": "code",
   "execution_count": 87,
   "metadata": {},
   "outputs": [
    {
     "data": {
      "text/plain": [
       "270516970240837.3"
      ]
     },
     "execution_count": 87,
     "metadata": {},
     "output_type": "execute_result"
    }
   ],
   "source": [
    "param"
   ]
  },
  {
   "cell_type": "code",
   "execution_count": 90,
   "metadata": {},
   "outputs": [
    {
     "data": {
      "text/plain": [
       "0    -0.406634\n",
       "1     0.312121\n",
       "2    -0.284340\n",
       "3     0.266842\n",
       "4    -0.485672\n",
       "5     0.961355\n",
       "6     0.280310\n",
       "7     0.375325\n",
       "8     0.001463\n",
       "9    -0.750241\n",
       "10    0.241603\n",
       "11   -0.653702\n",
       "12   -0.479822\n",
       "13   -0.975387\n",
       "14   -0.416678\n",
       "15   -0.071566\n",
       "16    0.234266\n",
       "17   -0.940718\n",
       "18   -0.621295\n",
       "19   -0.574325\n",
       "20    0.301399\n",
       "21    0.881136\n",
       "22    2.804559\n",
       "Name: magarmspp, dtype: float64"
      ]
     },
     "execution_count": 90,
     "metadata": {},
     "output_type": "execute_result"
    }
   ],
   "source": [
    "x - x.mean()"
   ]
  },
  {
   "cell_type": "code",
   "execution_count": 92,
   "metadata": {},
   "outputs": [
    {
     "data": {
      "text/plain": [
       "4.440892098500626e-15"
      ]
     },
     "execution_count": 92,
     "metadata": {},
     "output_type": "execute_result"
    }
   ],
   "source": [
    "np.sqrt(sum(x - x.mean())**2)"
   ]
  },
  {
   "cell_type": "code",
   "execution_count": null,
   "metadata": {},
   "outputs": [],
   "source": [
    "bottom"
   ]
  },
  {
   "cell_type": "code",
   "execution_count": 86,
   "metadata": {},
   "outputs": [],
   "source": [
    "top = np.sqrt(n)*sigma(y)\n",
    "bottom = np.sqrt(n-2) * np.sqrt(sum(x - x.mean())**2)\n",
    "\n",
    "param = top/bottom\n",
    "\n",
    "tp = sp.stats.t.ppf(0.975, len(smfit.fittedvalues)-2)"
   ]
  },
  {
   "cell_type": "code",
   "execution_count": null,
   "metadata": {},
   "outputs": [],
   "source": [
    "smfit.params[0]+tp*param"
   ]
  },
  {
   "cell_type": "code",
   "execution_count": 93,
   "metadata": {},
   "outputs": [
    {
     "data": {
      "text/plain": [
       "562570836546626.25"
      ]
     },
     "execution_count": 93,
     "metadata": {},
     "output_type": "execute_result"
    }
   ],
   "source": [
    "tp*param"
   ]
  },
  {
   "cell_type": "code",
   "execution_count": null,
   "metadata": {},
   "outputs": [],
   "source": [
    "this number does not seem right..."
   ]
  },
  {
   "cell_type": "code",
   "execution_count": null,
   "metadata": {},
   "outputs": [],
   "source": [
    "#to plot\n",
    "pylab.fill_between(x, yfit - ci, yfit + ci, alpha=0.5)\n"
   ]
  },
  {
   "cell_type": "code",
   "execution_count": null,
   "metadata": {},
   "outputs": [],
   "source": []
  }
 ],
 "metadata": {
  "kernelspec": {
   "display_name": "myEnv",
   "language": "python",
   "name": "myenv"
  },
  "language_info": {
   "codemirror_mode": {
    "name": "ipython",
    "version": 2
   },
   "file_extension": ".py",
   "mimetype": "text/x-python",
   "name": "python",
   "nbconvert_exporter": "python",
   "pygments_lexer": "ipython2",
   "version": "2.7.15"
  }
 },
 "nbformat": 4,
 "nbformat_minor": 2
}
